{
 "cells": [
  {
   "cell_type": "markdown",
   "metadata": {
    "slideshow": {
     "slide_type": "skip"
    }
   },
   "source": [
    "# <font color='red'> Atenção </font>\n",
    "\n",
    "Para ver este notebook como slideshow:\n",
    "\n",
    "* Instale o plug-in de slideshow usando o terminal: `conda install -c damianavila82 rise`\n",
    "\n",
    "* Execute o Jupyter\n",
    "\n",
    "* Veja os slides usando o botão do *reveal* que vai aparecer na barra de ferramentas\n",
    "\n",
    "![Botão Reveal](botao_reveal.png)\n",
    "\n",
    "\n",
    "\n",
    "\n"
   ]
  },
  {
   "cell_type": "markdown",
   "metadata": {
    "slideshow": {
     "slide_type": "slide"
    }
   },
   "source": [
    "# Primeiro contato com o Pandas\n",
    "\n",
    "\n",
    "Referências para esta atividade:\n",
    "\n",
    "[10 Minutes to Pandas](http://pandas.pydata.org/pandas-docs/stable/10min.html) - *Leiam este tutorial*\n",
    "\n",
    "[Pandas Cookbook](http://pandas.pydata.org/pandas-docs/stable/tutorials.html) - Referência de consulta absoluta de pandas\n",
    "\n"
   ]
  },
  {
   "cell_type": "markdown",
   "metadata": {
    "slideshow": {
     "slide_type": "slide"
    }
   },
   "source": [
    "## Usando o pandas\n",
    "\n",
    "Tipicamente o *pandas* é renomeado como *pd* da forma:\n",
    "\n",
    "    import pandas as pd\n",
    "\n",
    "ou se faz:\n",
    "\n",
    "    from pandas import *"
   ]
  },
  {
   "cell_type": "code",
   "execution_count": 25,
   "metadata": {
    "collapsed": true,
    "slideshow": {
     "slide_type": "fragment"
    }
   },
   "outputs": [],
   "source": [
    "import pandas as pd"
   ]
  },
  {
   "cell_type": "markdown",
   "metadata": {
    "slideshow": {
     "slide_type": "slide"
    }
   },
   "source": [
    "## Verificando versão do pandas"
   ]
  },
  {
   "cell_type": "markdown",
   "metadata": {
    "slideshow": {
     "slide_type": "fragment"
    }
   },
   "source": [
    "É sempre útil saber sua versão do pandas, porque ele evolui muito rapidamente e isso ajuda a resolver possíveus incompatibilidades!!\n",
    "\n",
    "Para isso, use o comando:\n",
    "\n",
    "  "
   ]
  },
  {
   "cell_type": "code",
   "execution_count": 26,
   "metadata": {
    "slideshow": {
     "slide_type": "fragment"
    }
   },
   "outputs": [
    {
     "data": {
      "text/plain": [
       "'0.20.1'"
      ]
     },
     "execution_count": 26,
     "metadata": {},
     "output_type": "execute_result"
    }
   ],
   "source": [
    "pd.__version__"
   ]
  },
  {
   "cell_type": "markdown",
   "metadata": {
    "slideshow": {
     "slide_type": "slide"
    }
   },
   "source": [
    "## Para abrir módulos gráficos, como já viram em outra disciplina"
   ]
  },
  {
   "cell_type": "code",
   "execution_count": 27,
   "metadata": {
    "collapsed": true,
    "slideshow": {
     "slide_type": "fragment"
    }
   },
   "outputs": [],
   "source": [
    "%matplotlib inline\n",
    "import matplotlib.pyplot as plt\n",
    "import matplotlib\n"
   ]
  },
  {
   "cell_type": "markdown",
   "metadata": {
    "slideshow": {
     "slide_type": "slide"
    }
   },
   "source": [
    "# Diretórios"
   ]
  },
  {
   "cell_type": "markdown",
   "metadata": {
    "slideshow": {
     "slide_type": "fragment"
    }
   },
   "source": [
    "Caso a base de dados (arquivo xlsx, por exemplo) e o seu Python Notebook (este arquivo) estejam em diretórios diferentes, então será necessário definir o `path`. Se esse for o caso, basta retirar o síbolo # de comentários nas três linhas abaixo.\n",
    "\n",
    "Lembre-se de que o nome do arquivo não faz parte da pasta."
   ]
  },
  {
   "cell_type": "code",
   "execution_count": 28,
   "metadata": {
    "collapsed": true,
    "slideshow": {
     "slide_type": "fragment"
    }
   },
   "outputs": [],
   "source": [
    "#import os\n",
    "#meu_diretorio = \"/Users/usuario/MeuDiretorio\"\n",
    "#os.chdir(meu_diretorio)"
   ]
  },
  {
   "cell_type": "markdown",
   "metadata": {
    "slideshow": {
     "slide_type": "slide"
    }
   },
   "source": [
    "# Diretórios"
   ]
  },
  {
   "cell_type": "markdown",
   "metadata": {
    "slideshow": {
     "slide_type": "fragment"
    }
   },
   "source": [
    "Caso queira saber qual diretório está o arquivo Python Notebbok, use a forma abaixo"
   ]
  },
  {
   "cell_type": "code",
   "execution_count": 29,
   "metadata": {
    "slideshow": {
     "slide_type": "fragment"
    }
   },
   "outputs": [
    {
     "name": "stdout",
     "output_type": "stream",
     "text": [
      "Esperamos trabalhar no diretório\n",
      "/Users/Gui Guidi/Desktop/Engenharia Comp/2º Semestre/Ciencia-Dados/Aula Panda Inicial 01/Aula01_Tutorial\n"
     ]
    }
   ],
   "source": [
    "import os\n",
    "print('Esperamos trabalhar no diretório')\n",
    "print(os.getcwd())"
   ]
  },
  {
   "cell_type": "markdown",
   "metadata": {
    "slideshow": {
     "slide_type": "skip"
    }
   },
   "source": [
    "Existem muitas outras formas de importar e exportar dados, veja o Pandas Cookbook"
   ]
  },
  {
   "cell_type": "markdown",
   "metadata": {
    "slideshow": {
     "slide_type": "slide"
    }
   },
   "source": [
    "# Leituras de arquivos "
   ]
  },
  {
   "cell_type": "markdown",
   "metadata": {
    "slideshow": {
     "slide_type": "fragment"
    }
   },
   "source": [
    "## Arquivos em Excel\n",
    "\n",
    "## <font color='blue'>Base de dados Bank Loan</font>"
   ]
  },
  {
   "cell_type": "code",
   "execution_count": 30,
   "metadata": {
    "collapsed": true,
    "slideshow": {
     "slide_type": "fragment"
    }
   },
   "outputs": [],
   "source": [
    "dados = pd.read_csv('DOM2015.csv')\n",
    "dados1 = pd.read_csv('DOM2014.csv')\n",
    "dados2 = pd.read_csv('DOM2013.csv')"
   ]
  },
  {
   "cell_type": "markdown",
   "metadata": {
    "slideshow": {
     "slide_type": "fragment"
    }
   },
   "source": [
    "## Outros tipos de arquivos\n",
    "\n",
    "Arquivos em formato txt ou csv podem ser lidos com o `read_table`. Inclusive arquivos comprimidos.\n",
    "\n",
    "Por exemplo, para ler um arquivo csv com separador ',' e com caracteres de Windows em Português fazemos:\n",
    "\n",
    "    notas = pd.read_table(\"dados.csv\", encoding=\"windows-1252\", sep=\",\")\n",
    "\n"
   ]
  },
  {
   "cell_type": "markdown",
   "metadata": {
    "collapsed": true,
    "slideshow": {
     "slide_type": "slide"
    }
   },
   "source": [
    "# Apresentando os dados de um DataFrame"
   ]
  },
  {
   "cell_type": "code",
   "execution_count": 31,
   "metadata": {
    "scrolled": true,
    "slideshow": {
     "slide_type": "fragment"
    }
   },
   "outputs": [
    {
     "data": {
      "text/html": [
       "<div>\n",
       "<style>\n",
       "    .dataframe thead tr:only-child th {\n",
       "        text-align: right;\n",
       "    }\n",
       "\n",
       "    .dataframe thead th {\n",
       "        text-align: left;\n",
       "    }\n",
       "\n",
       "    .dataframe tbody tr th {\n",
       "        vertical-align: top;\n",
       "    }\n",
       "</style>\n",
       "<table border=\"1\" class=\"dataframe\">\n",
       "  <thead>\n",
       "    <tr style=\"text-align: right;\">\n",
       "      <th></th>\n",
       "      <th>Unnamed: 0</th>\n",
       "      <th>V0101</th>\n",
       "      <th>UF</th>\n",
       "      <th>V0102</th>\n",
       "      <th>V0103</th>\n",
       "      <th>V0104</th>\n",
       "      <th>V0105</th>\n",
       "      <th>V0106</th>\n",
       "      <th>V0201</th>\n",
       "      <th>V0202</th>\n",
       "      <th>...</th>\n",
       "      <th>V4611</th>\n",
       "      <th>V4614</th>\n",
       "      <th>UPA</th>\n",
       "      <th>V4617</th>\n",
       "      <th>V4618</th>\n",
       "      <th>V4620</th>\n",
       "      <th>V4621</th>\n",
       "      <th>V4622</th>\n",
       "      <th>V4624</th>\n",
       "      <th>V9992</th>\n",
       "    </tr>\n",
       "  </thead>\n",
       "  <tbody>\n",
       "    <tr>\n",
       "      <th>0</th>\n",
       "      <td>0</td>\n",
       "      <td>2015</td>\n",
       "      <td>11</td>\n",
       "      <td>15</td>\n",
       "      <td>1</td>\n",
       "      <td>1</td>\n",
       "      <td>1.0</td>\n",
       "      <td>1.0</td>\n",
       "      <td>1.0</td>\n",
       "      <td>4.0</td>\n",
       "      <td>...</td>\n",
       "      <td>270.0</td>\n",
       "      <td>8.000000e+02</td>\n",
       "      <td>191</td>\n",
       "      <td>110001</td>\n",
       "      <td>1</td>\n",
       "      <td>1.0</td>\n",
       "      <td>8.000000e+02</td>\n",
       "      <td>4.0</td>\n",
       "      <td>1.0</td>\n",
       "      <td>20161104</td>\n",
       "    </tr>\n",
       "    <tr>\n",
       "      <th>1</th>\n",
       "      <td>1</td>\n",
       "      <td>2015</td>\n",
       "      <td>11</td>\n",
       "      <td>15</td>\n",
       "      <td>2</td>\n",
       "      <td>6</td>\n",
       "      <td>NaN</td>\n",
       "      <td>NaN</td>\n",
       "      <td>NaN</td>\n",
       "      <td>NaN</td>\n",
       "      <td>...</td>\n",
       "      <td>NaN</td>\n",
       "      <td>NaN</td>\n",
       "      <td>191</td>\n",
       "      <td>110001</td>\n",
       "      <td>1</td>\n",
       "      <td>NaN</td>\n",
       "      <td>NaN</td>\n",
       "      <td>NaN</td>\n",
       "      <td>NaN</td>\n",
       "      <td>20161104</td>\n",
       "    </tr>\n",
       "    <tr>\n",
       "      <th>2</th>\n",
       "      <td>2</td>\n",
       "      <td>2015</td>\n",
       "      <td>11</td>\n",
       "      <td>15</td>\n",
       "      <td>3</td>\n",
       "      <td>1</td>\n",
       "      <td>1.0</td>\n",
       "      <td>1.0</td>\n",
       "      <td>1.0</td>\n",
       "      <td>4.0</td>\n",
       "      <td>...</td>\n",
       "      <td>270.0</td>\n",
       "      <td>1.150000e+03</td>\n",
       "      <td>191</td>\n",
       "      <td>110001</td>\n",
       "      <td>1</td>\n",
       "      <td>1.0</td>\n",
       "      <td>1.150000e+03</td>\n",
       "      <td>4.0</td>\n",
       "      <td>1.0</td>\n",
       "      <td>20161104</td>\n",
       "    </tr>\n",
       "    <tr>\n",
       "      <th>3</th>\n",
       "      <td>3</td>\n",
       "      <td>2015</td>\n",
       "      <td>11</td>\n",
       "      <td>15</td>\n",
       "      <td>4</td>\n",
       "      <td>1</td>\n",
       "      <td>6.0</td>\n",
       "      <td>4.0</td>\n",
       "      <td>1.0</td>\n",
       "      <td>2.0</td>\n",
       "      <td>...</td>\n",
       "      <td>270.0</td>\n",
       "      <td>4.760000e+03</td>\n",
       "      <td>191</td>\n",
       "      <td>110001</td>\n",
       "      <td>1</td>\n",
       "      <td>6.0</td>\n",
       "      <td>7.930000e+02</td>\n",
       "      <td>4.0</td>\n",
       "      <td>2.0</td>\n",
       "      <td>20161104</td>\n",
       "    </tr>\n",
       "    <tr>\n",
       "      <th>4</th>\n",
       "      <td>4</td>\n",
       "      <td>2015</td>\n",
       "      <td>11</td>\n",
       "      <td>15</td>\n",
       "      <td>5</td>\n",
       "      <td>1</td>\n",
       "      <td>2.0</td>\n",
       "      <td>2.0</td>\n",
       "      <td>1.0</td>\n",
       "      <td>2.0</td>\n",
       "      <td>...</td>\n",
       "      <td>271.0</td>\n",
       "      <td>5.800000e+03</td>\n",
       "      <td>191</td>\n",
       "      <td>110001</td>\n",
       "      <td>1</td>\n",
       "      <td>2.0</td>\n",
       "      <td>2.900000e+03</td>\n",
       "      <td>6.0</td>\n",
       "      <td>2.0</td>\n",
       "      <td>20161104</td>\n",
       "    </tr>\n",
       "    <tr>\n",
       "      <th>5</th>\n",
       "      <td>5</td>\n",
       "      <td>2015</td>\n",
       "      <td>11</td>\n",
       "      <td>15</td>\n",
       "      <td>6</td>\n",
       "      <td>1</td>\n",
       "      <td>1.0</td>\n",
       "      <td>1.0</td>\n",
       "      <td>1.0</td>\n",
       "      <td>2.0</td>\n",
       "      <td>...</td>\n",
       "      <td>270.0</td>\n",
       "      <td>1.990000e+03</td>\n",
       "      <td>191</td>\n",
       "      <td>110001</td>\n",
       "      <td>1</td>\n",
       "      <td>1.0</td>\n",
       "      <td>1.990000e+03</td>\n",
       "      <td>5.0</td>\n",
       "      <td>1.0</td>\n",
       "      <td>20161104</td>\n",
       "    </tr>\n",
       "    <tr>\n",
       "      <th>6</th>\n",
       "      <td>6</td>\n",
       "      <td>2015</td>\n",
       "      <td>11</td>\n",
       "      <td>15</td>\n",
       "      <td>7</td>\n",
       "      <td>1</td>\n",
       "      <td>2.0</td>\n",
       "      <td>2.0</td>\n",
       "      <td>1.0</td>\n",
       "      <td>2.0</td>\n",
       "      <td>...</td>\n",
       "      <td>270.0</td>\n",
       "      <td>7.000000e+02</td>\n",
       "      <td>191</td>\n",
       "      <td>110001</td>\n",
       "      <td>1</td>\n",
       "      <td>2.0</td>\n",
       "      <td>3.500000e+02</td>\n",
       "      <td>2.0</td>\n",
       "      <td>1.0</td>\n",
       "      <td>20161104</td>\n",
       "    </tr>\n",
       "    <tr>\n",
       "      <th>7</th>\n",
       "      <td>7</td>\n",
       "      <td>2015</td>\n",
       "      <td>11</td>\n",
       "      <td>15</td>\n",
       "      <td>8</td>\n",
       "      <td>1</td>\n",
       "      <td>3.0</td>\n",
       "      <td>2.0</td>\n",
       "      <td>1.0</td>\n",
       "      <td>2.0</td>\n",
       "      <td>...</td>\n",
       "      <td>270.0</td>\n",
       "      <td>4.000000e+03</td>\n",
       "      <td>191</td>\n",
       "      <td>110001</td>\n",
       "      <td>1</td>\n",
       "      <td>3.0</td>\n",
       "      <td>1.333000e+03</td>\n",
       "      <td>4.0</td>\n",
       "      <td>1.0</td>\n",
       "      <td>20161104</td>\n",
       "    </tr>\n",
       "    <tr>\n",
       "      <th>8</th>\n",
       "      <td>8</td>\n",
       "      <td>2015</td>\n",
       "      <td>11</td>\n",
       "      <td>15</td>\n",
       "      <td>9</td>\n",
       "      <td>1</td>\n",
       "      <td>5.0</td>\n",
       "      <td>4.0</td>\n",
       "      <td>1.0</td>\n",
       "      <td>2.0</td>\n",
       "      <td>...</td>\n",
       "      <td>271.0</td>\n",
       "      <td>4.090000e+03</td>\n",
       "      <td>191</td>\n",
       "      <td>110001</td>\n",
       "      <td>1</td>\n",
       "      <td>5.0</td>\n",
       "      <td>8.180000e+02</td>\n",
       "      <td>4.0</td>\n",
       "      <td>1.0</td>\n",
       "      <td>20161104</td>\n",
       "    </tr>\n",
       "    <tr>\n",
       "      <th>9</th>\n",
       "      <td>9</td>\n",
       "      <td>2015</td>\n",
       "      <td>11</td>\n",
       "      <td>15</td>\n",
       "      <td>10</td>\n",
       "      <td>6</td>\n",
       "      <td>NaN</td>\n",
       "      <td>NaN</td>\n",
       "      <td>NaN</td>\n",
       "      <td>NaN</td>\n",
       "      <td>...</td>\n",
       "      <td>NaN</td>\n",
       "      <td>NaN</td>\n",
       "      <td>191</td>\n",
       "      <td>110001</td>\n",
       "      <td>1</td>\n",
       "      <td>NaN</td>\n",
       "      <td>NaN</td>\n",
       "      <td>NaN</td>\n",
       "      <td>NaN</td>\n",
       "      <td>20161104</td>\n",
       "    </tr>\n",
       "    <tr>\n",
       "      <th>10</th>\n",
       "      <td>10</td>\n",
       "      <td>2015</td>\n",
       "      <td>11</td>\n",
       "      <td>15</td>\n",
       "      <td>11</td>\n",
       "      <td>1</td>\n",
       "      <td>3.0</td>\n",
       "      <td>3.0</td>\n",
       "      <td>1.0</td>\n",
       "      <td>2.0</td>\n",
       "      <td>...</td>\n",
       "      <td>270.0</td>\n",
       "      <td>5.150000e+03</td>\n",
       "      <td>191</td>\n",
       "      <td>110001</td>\n",
       "      <td>1</td>\n",
       "      <td>3.0</td>\n",
       "      <td>1.716000e+03</td>\n",
       "      <td>5.0</td>\n",
       "      <td>1.0</td>\n",
       "      <td>20161104</td>\n",
       "    </tr>\n",
       "    <tr>\n",
       "      <th>11</th>\n",
       "      <td>11</td>\n",
       "      <td>2015</td>\n",
       "      <td>11</td>\n",
       "      <td>15</td>\n",
       "      <td>12</td>\n",
       "      <td>1</td>\n",
       "      <td>1.0</td>\n",
       "      <td>1.0</td>\n",
       "      <td>1.0</td>\n",
       "      <td>2.0</td>\n",
       "      <td>...</td>\n",
       "      <td>270.0</td>\n",
       "      <td>2.500000e+03</td>\n",
       "      <td>191</td>\n",
       "      <td>110001</td>\n",
       "      <td>1</td>\n",
       "      <td>1.0</td>\n",
       "      <td>2.500000e+03</td>\n",
       "      <td>6.0</td>\n",
       "      <td>1.0</td>\n",
       "      <td>20161104</td>\n",
       "    </tr>\n",
       "    <tr>\n",
       "      <th>12</th>\n",
       "      <td>12</td>\n",
       "      <td>2015</td>\n",
       "      <td>11</td>\n",
       "      <td>15</td>\n",
       "      <td>13</td>\n",
       "      <td>5</td>\n",
       "      <td>NaN</td>\n",
       "      <td>NaN</td>\n",
       "      <td>NaN</td>\n",
       "      <td>NaN</td>\n",
       "      <td>...</td>\n",
       "      <td>NaN</td>\n",
       "      <td>NaN</td>\n",
       "      <td>191</td>\n",
       "      <td>110001</td>\n",
       "      <td>1</td>\n",
       "      <td>NaN</td>\n",
       "      <td>NaN</td>\n",
       "      <td>NaN</td>\n",
       "      <td>NaN</td>\n",
       "      <td>20161104</td>\n",
       "    </tr>\n",
       "    <tr>\n",
       "      <th>13</th>\n",
       "      <td>13</td>\n",
       "      <td>2015</td>\n",
       "      <td>11</td>\n",
       "      <td>15</td>\n",
       "      <td>14</td>\n",
       "      <td>1</td>\n",
       "      <td>2.0</td>\n",
       "      <td>2.0</td>\n",
       "      <td>1.0</td>\n",
       "      <td>4.0</td>\n",
       "      <td>...</td>\n",
       "      <td>270.0</td>\n",
       "      <td>2.800000e+03</td>\n",
       "      <td>191</td>\n",
       "      <td>110001</td>\n",
       "      <td>1</td>\n",
       "      <td>2.0</td>\n",
       "      <td>1.400000e+03</td>\n",
       "      <td>4.0</td>\n",
       "      <td>1.0</td>\n",
       "      <td>20161104</td>\n",
       "    </tr>\n",
       "    <tr>\n",
       "      <th>14</th>\n",
       "      <td>14</td>\n",
       "      <td>2015</td>\n",
       "      <td>11</td>\n",
       "      <td>15</td>\n",
       "      <td>15</td>\n",
       "      <td>6</td>\n",
       "      <td>NaN</td>\n",
       "      <td>NaN</td>\n",
       "      <td>NaN</td>\n",
       "      <td>NaN</td>\n",
       "      <td>...</td>\n",
       "      <td>NaN</td>\n",
       "      <td>NaN</td>\n",
       "      <td>191</td>\n",
       "      <td>110001</td>\n",
       "      <td>1</td>\n",
       "      <td>NaN</td>\n",
       "      <td>NaN</td>\n",
       "      <td>NaN</td>\n",
       "      <td>NaN</td>\n",
       "      <td>20161104</td>\n",
       "    </tr>\n",
       "    <tr>\n",
       "      <th>15</th>\n",
       "      <td>15</td>\n",
       "      <td>2015</td>\n",
       "      <td>11</td>\n",
       "      <td>15</td>\n",
       "      <td>16</td>\n",
       "      <td>1</td>\n",
       "      <td>3.0</td>\n",
       "      <td>2.0</td>\n",
       "      <td>1.0</td>\n",
       "      <td>4.0</td>\n",
       "      <td>...</td>\n",
       "      <td>270.0</td>\n",
       "      <td>2.000000e+03</td>\n",
       "      <td>191</td>\n",
       "      <td>110001</td>\n",
       "      <td>1</td>\n",
       "      <td>3.0</td>\n",
       "      <td>6.660000e+02</td>\n",
       "      <td>3.0</td>\n",
       "      <td>2.0</td>\n",
       "      <td>20161104</td>\n",
       "    </tr>\n",
       "    <tr>\n",
       "      <th>16</th>\n",
       "      <td>16</td>\n",
       "      <td>2015</td>\n",
       "      <td>11</td>\n",
       "      <td>23</td>\n",
       "      <td>1</td>\n",
       "      <td>1</td>\n",
       "      <td>1.0</td>\n",
       "      <td>1.0</td>\n",
       "      <td>1.0</td>\n",
       "      <td>2.0</td>\n",
       "      <td>...</td>\n",
       "      <td>270.0</td>\n",
       "      <td>7.880000e+02</td>\n",
       "      <td>191</td>\n",
       "      <td>110001</td>\n",
       "      <td>2</td>\n",
       "      <td>1.0</td>\n",
       "      <td>7.880000e+02</td>\n",
       "      <td>3.0</td>\n",
       "      <td>1.0</td>\n",
       "      <td>20161104</td>\n",
       "    </tr>\n",
       "    <tr>\n",
       "      <th>17</th>\n",
       "      <td>17</td>\n",
       "      <td>2015</td>\n",
       "      <td>11</td>\n",
       "      <td>23</td>\n",
       "      <td>2</td>\n",
       "      <td>1</td>\n",
       "      <td>4.0</td>\n",
       "      <td>3.0</td>\n",
       "      <td>1.0</td>\n",
       "      <td>2.0</td>\n",
       "      <td>...</td>\n",
       "      <td>270.0</td>\n",
       "      <td>3.000000e+03</td>\n",
       "      <td>191</td>\n",
       "      <td>110001</td>\n",
       "      <td>2</td>\n",
       "      <td>4.0</td>\n",
       "      <td>7.500000e+02</td>\n",
       "      <td>3.0</td>\n",
       "      <td>1.0</td>\n",
       "      <td>20161104</td>\n",
       "    </tr>\n",
       "    <tr>\n",
       "      <th>18</th>\n",
       "      <td>18</td>\n",
       "      <td>2015</td>\n",
       "      <td>11</td>\n",
       "      <td>23</td>\n",
       "      <td>3</td>\n",
       "      <td>1</td>\n",
       "      <td>5.0</td>\n",
       "      <td>5.0</td>\n",
       "      <td>1.0</td>\n",
       "      <td>2.0</td>\n",
       "      <td>...</td>\n",
       "      <td>270.0</td>\n",
       "      <td>7.188000e+03</td>\n",
       "      <td>191</td>\n",
       "      <td>110001</td>\n",
       "      <td>2</td>\n",
       "      <td>5.0</td>\n",
       "      <td>1.437000e+03</td>\n",
       "      <td>4.0</td>\n",
       "      <td>1.0</td>\n",
       "      <td>20161104</td>\n",
       "    </tr>\n",
       "    <tr>\n",
       "      <th>19</th>\n",
       "      <td>19</td>\n",
       "      <td>2015</td>\n",
       "      <td>11</td>\n",
       "      <td>23</td>\n",
       "      <td>4</td>\n",
       "      <td>1</td>\n",
       "      <td>2.0</td>\n",
       "      <td>2.0</td>\n",
       "      <td>1.0</td>\n",
       "      <td>2.0</td>\n",
       "      <td>...</td>\n",
       "      <td>270.0</td>\n",
       "      <td>1.200000e+03</td>\n",
       "      <td>191</td>\n",
       "      <td>110001</td>\n",
       "      <td>2</td>\n",
       "      <td>2.0</td>\n",
       "      <td>6.000000e+02</td>\n",
       "      <td>3.0</td>\n",
       "      <td>1.0</td>\n",
       "      <td>20161104</td>\n",
       "    </tr>\n",
       "    <tr>\n",
       "      <th>20</th>\n",
       "      <td>20</td>\n",
       "      <td>2015</td>\n",
       "      <td>11</td>\n",
       "      <td>23</td>\n",
       "      <td>5</td>\n",
       "      <td>1</td>\n",
       "      <td>3.0</td>\n",
       "      <td>3.0</td>\n",
       "      <td>1.0</td>\n",
       "      <td>2.0</td>\n",
       "      <td>...</td>\n",
       "      <td>270.0</td>\n",
       "      <td>2.800000e+03</td>\n",
       "      <td>191</td>\n",
       "      <td>110001</td>\n",
       "      <td>2</td>\n",
       "      <td>3.0</td>\n",
       "      <td>9.330000e+02</td>\n",
       "      <td>4.0</td>\n",
       "      <td>1.0</td>\n",
       "      <td>20161104</td>\n",
       "    </tr>\n",
       "    <tr>\n",
       "      <th>21</th>\n",
       "      <td>21</td>\n",
       "      <td>2015</td>\n",
       "      <td>11</td>\n",
       "      <td>23</td>\n",
       "      <td>6</td>\n",
       "      <td>1</td>\n",
       "      <td>4.0</td>\n",
       "      <td>4.0</td>\n",
       "      <td>1.0</td>\n",
       "      <td>2.0</td>\n",
       "      <td>...</td>\n",
       "      <td>270.0</td>\n",
       "      <td>4.350000e+03</td>\n",
       "      <td>191</td>\n",
       "      <td>110001</td>\n",
       "      <td>2</td>\n",
       "      <td>4.0</td>\n",
       "      <td>1.087000e+03</td>\n",
       "      <td>4.0</td>\n",
       "      <td>1.0</td>\n",
       "      <td>20161104</td>\n",
       "    </tr>\n",
       "    <tr>\n",
       "      <th>22</th>\n",
       "      <td>22</td>\n",
       "      <td>2015</td>\n",
       "      <td>11</td>\n",
       "      <td>23</td>\n",
       "      <td>7</td>\n",
       "      <td>2</td>\n",
       "      <td>NaN</td>\n",
       "      <td>NaN</td>\n",
       "      <td>NaN</td>\n",
       "      <td>NaN</td>\n",
       "      <td>...</td>\n",
       "      <td>NaN</td>\n",
       "      <td>NaN</td>\n",
       "      <td>191</td>\n",
       "      <td>110001</td>\n",
       "      <td>2</td>\n",
       "      <td>NaN</td>\n",
       "      <td>NaN</td>\n",
       "      <td>NaN</td>\n",
       "      <td>NaN</td>\n",
       "      <td>20161104</td>\n",
       "    </tr>\n",
       "    <tr>\n",
       "      <th>23</th>\n",
       "      <td>23</td>\n",
       "      <td>2015</td>\n",
       "      <td>11</td>\n",
       "      <td>23</td>\n",
       "      <td>8</td>\n",
       "      <td>1</td>\n",
       "      <td>3.0</td>\n",
       "      <td>2.0</td>\n",
       "      <td>1.0</td>\n",
       "      <td>2.0</td>\n",
       "      <td>...</td>\n",
       "      <td>271.0</td>\n",
       "      <td>8.000000e+03</td>\n",
       "      <td>191</td>\n",
       "      <td>110001</td>\n",
       "      <td>2</td>\n",
       "      <td>3.0</td>\n",
       "      <td>2.666000e+03</td>\n",
       "      <td>6.0</td>\n",
       "      <td>2.0</td>\n",
       "      <td>20161104</td>\n",
       "    </tr>\n",
       "    <tr>\n",
       "      <th>24</th>\n",
       "      <td>24</td>\n",
       "      <td>2015</td>\n",
       "      <td>11</td>\n",
       "      <td>23</td>\n",
       "      <td>9</td>\n",
       "      <td>5</td>\n",
       "      <td>NaN</td>\n",
       "      <td>NaN</td>\n",
       "      <td>NaN</td>\n",
       "      <td>NaN</td>\n",
       "      <td>...</td>\n",
       "      <td>NaN</td>\n",
       "      <td>NaN</td>\n",
       "      <td>191</td>\n",
       "      <td>110001</td>\n",
       "      <td>2</td>\n",
       "      <td>NaN</td>\n",
       "      <td>NaN</td>\n",
       "      <td>NaN</td>\n",
       "      <td>NaN</td>\n",
       "      <td>20161104</td>\n",
       "    </tr>\n",
       "    <tr>\n",
       "      <th>25</th>\n",
       "      <td>25</td>\n",
       "      <td>2015</td>\n",
       "      <td>11</td>\n",
       "      <td>23</td>\n",
       "      <td>10</td>\n",
       "      <td>2</td>\n",
       "      <td>NaN</td>\n",
       "      <td>NaN</td>\n",
       "      <td>NaN</td>\n",
       "      <td>NaN</td>\n",
       "      <td>...</td>\n",
       "      <td>NaN</td>\n",
       "      <td>NaN</td>\n",
       "      <td>191</td>\n",
       "      <td>110001</td>\n",
       "      <td>2</td>\n",
       "      <td>NaN</td>\n",
       "      <td>NaN</td>\n",
       "      <td>NaN</td>\n",
       "      <td>NaN</td>\n",
       "      <td>20161104</td>\n",
       "    </tr>\n",
       "    <tr>\n",
       "      <th>26</th>\n",
       "      <td>26</td>\n",
       "      <td>2015</td>\n",
       "      <td>11</td>\n",
       "      <td>23</td>\n",
       "      <td>11</td>\n",
       "      <td>1</td>\n",
       "      <td>3.0</td>\n",
       "      <td>3.0</td>\n",
       "      <td>1.0</td>\n",
       "      <td>2.0</td>\n",
       "      <td>...</td>\n",
       "      <td>270.0</td>\n",
       "      <td>2.100000e+03</td>\n",
       "      <td>191</td>\n",
       "      <td>110001</td>\n",
       "      <td>2</td>\n",
       "      <td>3.0</td>\n",
       "      <td>7.000000e+02</td>\n",
       "      <td>3.0</td>\n",
       "      <td>2.0</td>\n",
       "      <td>20161104</td>\n",
       "    </tr>\n",
       "    <tr>\n",
       "      <th>27</th>\n",
       "      <td>27</td>\n",
       "      <td>2015</td>\n",
       "      <td>11</td>\n",
       "      <td>23</td>\n",
       "      <td>12</td>\n",
       "      <td>1</td>\n",
       "      <td>4.0</td>\n",
       "      <td>4.0</td>\n",
       "      <td>1.0</td>\n",
       "      <td>2.0</td>\n",
       "      <td>...</td>\n",
       "      <td>270.0</td>\n",
       "      <td>1.330000e+04</td>\n",
       "      <td>191</td>\n",
       "      <td>110001</td>\n",
       "      <td>2</td>\n",
       "      <td>4.0</td>\n",
       "      <td>3.325000e+03</td>\n",
       "      <td>6.0</td>\n",
       "      <td>2.0</td>\n",
       "      <td>20161104</td>\n",
       "    </tr>\n",
       "    <tr>\n",
       "      <th>28</th>\n",
       "      <td>28</td>\n",
       "      <td>2015</td>\n",
       "      <td>11</td>\n",
       "      <td>23</td>\n",
       "      <td>13</td>\n",
       "      <td>1</td>\n",
       "      <td>2.0</td>\n",
       "      <td>2.0</td>\n",
       "      <td>1.0</td>\n",
       "      <td>2.0</td>\n",
       "      <td>...</td>\n",
       "      <td>270.0</td>\n",
       "      <td>7.000000e+03</td>\n",
       "      <td>191</td>\n",
       "      <td>110001</td>\n",
       "      <td>2</td>\n",
       "      <td>2.0</td>\n",
       "      <td>3.500000e+03</td>\n",
       "      <td>6.0</td>\n",
       "      <td>1.0</td>\n",
       "      <td>20161104</td>\n",
       "    </tr>\n",
       "    <tr>\n",
       "      <th>29</th>\n",
       "      <td>29</td>\n",
       "      <td>2015</td>\n",
       "      <td>11</td>\n",
       "      <td>23</td>\n",
       "      <td>14</td>\n",
       "      <td>1</td>\n",
       "      <td>4.0</td>\n",
       "      <td>3.0</td>\n",
       "      <td>1.0</td>\n",
       "      <td>2.0</td>\n",
       "      <td>...</td>\n",
       "      <td>270.0</td>\n",
       "      <td>4.688000e+03</td>\n",
       "      <td>191</td>\n",
       "      <td>110001</td>\n",
       "      <td>2</td>\n",
       "      <td>4.0</td>\n",
       "      <td>1.172000e+03</td>\n",
       "      <td>4.0</td>\n",
       "      <td>1.0</td>\n",
       "      <td>20161104</td>\n",
       "    </tr>\n",
       "    <tr>\n",
       "      <th>...</th>\n",
       "      <td>...</td>\n",
       "      <td>...</td>\n",
       "      <td>...</td>\n",
       "      <td>...</td>\n",
       "      <td>...</td>\n",
       "      <td>...</td>\n",
       "      <td>...</td>\n",
       "      <td>...</td>\n",
       "      <td>...</td>\n",
       "      <td>...</td>\n",
       "      <td>...</td>\n",
       "      <td>...</td>\n",
       "      <td>...</td>\n",
       "      <td>...</td>\n",
       "      <td>...</td>\n",
       "      <td>...</td>\n",
       "      <td>...</td>\n",
       "      <td>...</td>\n",
       "      <td>...</td>\n",
       "      <td>...</td>\n",
       "      <td>...</td>\n",
       "    </tr>\n",
       "    <tr>\n",
       "      <th>151159</th>\n",
       "      <td>151159</td>\n",
       "      <td>2015</td>\n",
       "      <td>53</td>\n",
       "      <td>2130</td>\n",
       "      <td>3</td>\n",
       "      <td>1</td>\n",
       "      <td>3.0</td>\n",
       "      <td>3.0</td>\n",
       "      <td>1.0</td>\n",
       "      <td>2.0</td>\n",
       "      <td>...</td>\n",
       "      <td>325.0</td>\n",
       "      <td>1.820000e+04</td>\n",
       "      <td>190</td>\n",
       "      <td>530001</td>\n",
       "      <td>213</td>\n",
       "      <td>3.0</td>\n",
       "      <td>6.066000e+03</td>\n",
       "      <td>7.0</td>\n",
       "      <td>1.0</td>\n",
       "      <td>20161104</td>\n",
       "    </tr>\n",
       "    <tr>\n",
       "      <th>151160</th>\n",
       "      <td>151160</td>\n",
       "      <td>2015</td>\n",
       "      <td>53</td>\n",
       "      <td>2130</td>\n",
       "      <td>4</td>\n",
       "      <td>2</td>\n",
       "      <td>NaN</td>\n",
       "      <td>NaN</td>\n",
       "      <td>NaN</td>\n",
       "      <td>NaN</td>\n",
       "      <td>...</td>\n",
       "      <td>NaN</td>\n",
       "      <td>NaN</td>\n",
       "      <td>190</td>\n",
       "      <td>530001</td>\n",
       "      <td>213</td>\n",
       "      <td>NaN</td>\n",
       "      <td>NaN</td>\n",
       "      <td>NaN</td>\n",
       "      <td>NaN</td>\n",
       "      <td>20161104</td>\n",
       "    </tr>\n",
       "    <tr>\n",
       "      <th>151161</th>\n",
       "      <td>151161</td>\n",
       "      <td>2015</td>\n",
       "      <td>53</td>\n",
       "      <td>2130</td>\n",
       "      <td>5</td>\n",
       "      <td>1</td>\n",
       "      <td>5.0</td>\n",
       "      <td>5.0</td>\n",
       "      <td>1.0</td>\n",
       "      <td>2.0</td>\n",
       "      <td>...</td>\n",
       "      <td>325.0</td>\n",
       "      <td>3.100000e+04</td>\n",
       "      <td>190</td>\n",
       "      <td>530001</td>\n",
       "      <td>213</td>\n",
       "      <td>5.0</td>\n",
       "      <td>6.200000e+03</td>\n",
       "      <td>7.0</td>\n",
       "      <td>1.0</td>\n",
       "      <td>20161104</td>\n",
       "    </tr>\n",
       "    <tr>\n",
       "      <th>151162</th>\n",
       "      <td>151162</td>\n",
       "      <td>2015</td>\n",
       "      <td>53</td>\n",
       "      <td>2130</td>\n",
       "      <td>6</td>\n",
       "      <td>2</td>\n",
       "      <td>NaN</td>\n",
       "      <td>NaN</td>\n",
       "      <td>NaN</td>\n",
       "      <td>NaN</td>\n",
       "      <td>...</td>\n",
       "      <td>NaN</td>\n",
       "      <td>NaN</td>\n",
       "      <td>190</td>\n",
       "      <td>530001</td>\n",
       "      <td>213</td>\n",
       "      <td>NaN</td>\n",
       "      <td>NaN</td>\n",
       "      <td>NaN</td>\n",
       "      <td>NaN</td>\n",
       "      <td>20161104</td>\n",
       "    </tr>\n",
       "    <tr>\n",
       "      <th>151163</th>\n",
       "      <td>151163</td>\n",
       "      <td>2015</td>\n",
       "      <td>53</td>\n",
       "      <td>2130</td>\n",
       "      <td>7</td>\n",
       "      <td>1</td>\n",
       "      <td>5.0</td>\n",
       "      <td>2.0</td>\n",
       "      <td>1.0</td>\n",
       "      <td>2.0</td>\n",
       "      <td>...</td>\n",
       "      <td>324.0</td>\n",
       "      <td>1.250000e+04</td>\n",
       "      <td>190</td>\n",
       "      <td>530001</td>\n",
       "      <td>213</td>\n",
       "      <td>5.0</td>\n",
       "      <td>2.500000e+03</td>\n",
       "      <td>6.0</td>\n",
       "      <td>1.0</td>\n",
       "      <td>20161104</td>\n",
       "    </tr>\n",
       "    <tr>\n",
       "      <th>151164</th>\n",
       "      <td>151164</td>\n",
       "      <td>2015</td>\n",
       "      <td>53</td>\n",
       "      <td>2130</td>\n",
       "      <td>8</td>\n",
       "      <td>1</td>\n",
       "      <td>5.0</td>\n",
       "      <td>2.0</td>\n",
       "      <td>1.0</td>\n",
       "      <td>2.0</td>\n",
       "      <td>...</td>\n",
       "      <td>324.0</td>\n",
       "      <td>3.000000e+04</td>\n",
       "      <td>190</td>\n",
       "      <td>530001</td>\n",
       "      <td>213</td>\n",
       "      <td>5.0</td>\n",
       "      <td>6.000000e+03</td>\n",
       "      <td>7.0</td>\n",
       "      <td>1.0</td>\n",
       "      <td>20161104</td>\n",
       "    </tr>\n",
       "    <tr>\n",
       "      <th>151165</th>\n",
       "      <td>151165</td>\n",
       "      <td>2015</td>\n",
       "      <td>53</td>\n",
       "      <td>2130</td>\n",
       "      <td>9</td>\n",
       "      <td>1</td>\n",
       "      <td>4.0</td>\n",
       "      <td>4.0</td>\n",
       "      <td>1.0</td>\n",
       "      <td>2.0</td>\n",
       "      <td>...</td>\n",
       "      <td>325.0</td>\n",
       "      <td>3.040000e+04</td>\n",
       "      <td>190</td>\n",
       "      <td>530001</td>\n",
       "      <td>213</td>\n",
       "      <td>4.0</td>\n",
       "      <td>7.600000e+03</td>\n",
       "      <td>7.0</td>\n",
       "      <td>1.0</td>\n",
       "      <td>20161104</td>\n",
       "    </tr>\n",
       "    <tr>\n",
       "      <th>151166</th>\n",
       "      <td>151166</td>\n",
       "      <td>2015</td>\n",
       "      <td>53</td>\n",
       "      <td>2130</td>\n",
       "      <td>10</td>\n",
       "      <td>2</td>\n",
       "      <td>NaN</td>\n",
       "      <td>NaN</td>\n",
       "      <td>NaN</td>\n",
       "      <td>NaN</td>\n",
       "      <td>...</td>\n",
       "      <td>NaN</td>\n",
       "      <td>NaN</td>\n",
       "      <td>190</td>\n",
       "      <td>530001</td>\n",
       "      <td>213</td>\n",
       "      <td>NaN</td>\n",
       "      <td>NaN</td>\n",
       "      <td>NaN</td>\n",
       "      <td>NaN</td>\n",
       "      <td>20161104</td>\n",
       "    </tr>\n",
       "    <tr>\n",
       "      <th>151167</th>\n",
       "      <td>151167</td>\n",
       "      <td>2015</td>\n",
       "      <td>53</td>\n",
       "      <td>2130</td>\n",
       "      <td>11</td>\n",
       "      <td>1</td>\n",
       "      <td>4.0</td>\n",
       "      <td>4.0</td>\n",
       "      <td>1.0</td>\n",
       "      <td>2.0</td>\n",
       "      <td>...</td>\n",
       "      <td>324.0</td>\n",
       "      <td>3.750000e+04</td>\n",
       "      <td>190</td>\n",
       "      <td>530001</td>\n",
       "      <td>213</td>\n",
       "      <td>4.0</td>\n",
       "      <td>9.375000e+03</td>\n",
       "      <td>7.0</td>\n",
       "      <td>1.0</td>\n",
       "      <td>20161104</td>\n",
       "    </tr>\n",
       "    <tr>\n",
       "      <th>151168</th>\n",
       "      <td>151168</td>\n",
       "      <td>2015</td>\n",
       "      <td>53</td>\n",
       "      <td>2130</td>\n",
       "      <td>12</td>\n",
       "      <td>1</td>\n",
       "      <td>3.0</td>\n",
       "      <td>3.0</td>\n",
       "      <td>1.0</td>\n",
       "      <td>2.0</td>\n",
       "      <td>...</td>\n",
       "      <td>325.0</td>\n",
       "      <td>3.970000e+04</td>\n",
       "      <td>190</td>\n",
       "      <td>530001</td>\n",
       "      <td>213</td>\n",
       "      <td>2.0</td>\n",
       "      <td>1.985000e+04</td>\n",
       "      <td>7.0</td>\n",
       "      <td>1.0</td>\n",
       "      <td>20161104</td>\n",
       "    </tr>\n",
       "    <tr>\n",
       "      <th>151169</th>\n",
       "      <td>151169</td>\n",
       "      <td>2015</td>\n",
       "      <td>53</td>\n",
       "      <td>2130</td>\n",
       "      <td>13</td>\n",
       "      <td>1</td>\n",
       "      <td>3.0</td>\n",
       "      <td>3.0</td>\n",
       "      <td>1.0</td>\n",
       "      <td>2.0</td>\n",
       "      <td>...</td>\n",
       "      <td>324.0</td>\n",
       "      <td>3.170000e+04</td>\n",
       "      <td>190</td>\n",
       "      <td>530001</td>\n",
       "      <td>213</td>\n",
       "      <td>3.0</td>\n",
       "      <td>1.056600e+04</td>\n",
       "      <td>7.0</td>\n",
       "      <td>1.0</td>\n",
       "      <td>20161104</td>\n",
       "    </tr>\n",
       "    <tr>\n",
       "      <th>151170</th>\n",
       "      <td>151170</td>\n",
       "      <td>2015</td>\n",
       "      <td>53</td>\n",
       "      <td>2130</td>\n",
       "      <td>14</td>\n",
       "      <td>1</td>\n",
       "      <td>2.0</td>\n",
       "      <td>1.0</td>\n",
       "      <td>1.0</td>\n",
       "      <td>2.0</td>\n",
       "      <td>...</td>\n",
       "      <td>325.0</td>\n",
       "      <td>3.064000e+04</td>\n",
       "      <td>190</td>\n",
       "      <td>530001</td>\n",
       "      <td>213</td>\n",
       "      <td>2.0</td>\n",
       "      <td>1.532000e+04</td>\n",
       "      <td>7.0</td>\n",
       "      <td>1.0</td>\n",
       "      <td>20161104</td>\n",
       "    </tr>\n",
       "    <tr>\n",
       "      <th>151171</th>\n",
       "      <td>151171</td>\n",
       "      <td>2015</td>\n",
       "      <td>53</td>\n",
       "      <td>2130</td>\n",
       "      <td>15</td>\n",
       "      <td>1</td>\n",
       "      <td>4.0</td>\n",
       "      <td>4.0</td>\n",
       "      <td>1.0</td>\n",
       "      <td>2.0</td>\n",
       "      <td>...</td>\n",
       "      <td>324.0</td>\n",
       "      <td>1.300000e+04</td>\n",
       "      <td>190</td>\n",
       "      <td>530001</td>\n",
       "      <td>213</td>\n",
       "      <td>4.0</td>\n",
       "      <td>3.250000e+03</td>\n",
       "      <td>6.0</td>\n",
       "      <td>1.0</td>\n",
       "      <td>20161104</td>\n",
       "    </tr>\n",
       "    <tr>\n",
       "      <th>151172</th>\n",
       "      <td>151172</td>\n",
       "      <td>2015</td>\n",
       "      <td>53</td>\n",
       "      <td>2148</td>\n",
       "      <td>1</td>\n",
       "      <td>1</td>\n",
       "      <td>2.0</td>\n",
       "      <td>2.0</td>\n",
       "      <td>1.0</td>\n",
       "      <td>2.0</td>\n",
       "      <td>...</td>\n",
       "      <td>325.0</td>\n",
       "      <td>2.712000e+03</td>\n",
       "      <td>190</td>\n",
       "      <td>530001</td>\n",
       "      <td>195</td>\n",
       "      <td>2.0</td>\n",
       "      <td>1.356000e+03</td>\n",
       "      <td>4.0</td>\n",
       "      <td>1.0</td>\n",
       "      <td>20161104</td>\n",
       "    </tr>\n",
       "    <tr>\n",
       "      <th>151173</th>\n",
       "      <td>151173</td>\n",
       "      <td>2015</td>\n",
       "      <td>53</td>\n",
       "      <td>2148</td>\n",
       "      <td>2</td>\n",
       "      <td>1</td>\n",
       "      <td>6.0</td>\n",
       "      <td>4.0</td>\n",
       "      <td>1.0</td>\n",
       "      <td>2.0</td>\n",
       "      <td>...</td>\n",
       "      <td>324.0</td>\n",
       "      <td>2.630000e+03</td>\n",
       "      <td>190</td>\n",
       "      <td>530001</td>\n",
       "      <td>195</td>\n",
       "      <td>6.0</td>\n",
       "      <td>4.380000e+02</td>\n",
       "      <td>3.0</td>\n",
       "      <td>1.0</td>\n",
       "      <td>20161104</td>\n",
       "    </tr>\n",
       "    <tr>\n",
       "      <th>151174</th>\n",
       "      <td>151174</td>\n",
       "      <td>2015</td>\n",
       "      <td>53</td>\n",
       "      <td>2148</td>\n",
       "      <td>3</td>\n",
       "      <td>2</td>\n",
       "      <td>NaN</td>\n",
       "      <td>NaN</td>\n",
       "      <td>NaN</td>\n",
       "      <td>NaN</td>\n",
       "      <td>...</td>\n",
       "      <td>NaN</td>\n",
       "      <td>NaN</td>\n",
       "      <td>190</td>\n",
       "      <td>530001</td>\n",
       "      <td>195</td>\n",
       "      <td>NaN</td>\n",
       "      <td>NaN</td>\n",
       "      <td>NaN</td>\n",
       "      <td>NaN</td>\n",
       "      <td>20161104</td>\n",
       "    </tr>\n",
       "    <tr>\n",
       "      <th>151175</th>\n",
       "      <td>151175</td>\n",
       "      <td>2015</td>\n",
       "      <td>53</td>\n",
       "      <td>2148</td>\n",
       "      <td>4</td>\n",
       "      <td>1</td>\n",
       "      <td>5.0</td>\n",
       "      <td>5.0</td>\n",
       "      <td>1.0</td>\n",
       "      <td>2.0</td>\n",
       "      <td>...</td>\n",
       "      <td>324.0</td>\n",
       "      <td>3.176000e+03</td>\n",
       "      <td>190</td>\n",
       "      <td>530001</td>\n",
       "      <td>195</td>\n",
       "      <td>5.0</td>\n",
       "      <td>6.350000e+02</td>\n",
       "      <td>3.0</td>\n",
       "      <td>1.0</td>\n",
       "      <td>20161104</td>\n",
       "    </tr>\n",
       "    <tr>\n",
       "      <th>151176</th>\n",
       "      <td>151176</td>\n",
       "      <td>2015</td>\n",
       "      <td>53</td>\n",
       "      <td>2148</td>\n",
       "      <td>5</td>\n",
       "      <td>4</td>\n",
       "      <td>NaN</td>\n",
       "      <td>NaN</td>\n",
       "      <td>NaN</td>\n",
       "      <td>NaN</td>\n",
       "      <td>...</td>\n",
       "      <td>NaN</td>\n",
       "      <td>NaN</td>\n",
       "      <td>190</td>\n",
       "      <td>530001</td>\n",
       "      <td>195</td>\n",
       "      <td>NaN</td>\n",
       "      <td>NaN</td>\n",
       "      <td>NaN</td>\n",
       "      <td>NaN</td>\n",
       "      <td>20161104</td>\n",
       "    </tr>\n",
       "    <tr>\n",
       "      <th>151177</th>\n",
       "      <td>151177</td>\n",
       "      <td>2015</td>\n",
       "      <td>53</td>\n",
       "      <td>2148</td>\n",
       "      <td>6</td>\n",
       "      <td>3</td>\n",
       "      <td>NaN</td>\n",
       "      <td>NaN</td>\n",
       "      <td>NaN</td>\n",
       "      <td>NaN</td>\n",
       "      <td>...</td>\n",
       "      <td>NaN</td>\n",
       "      <td>NaN</td>\n",
       "      <td>190</td>\n",
       "      <td>530001</td>\n",
       "      <td>195</td>\n",
       "      <td>NaN</td>\n",
       "      <td>NaN</td>\n",
       "      <td>NaN</td>\n",
       "      <td>NaN</td>\n",
       "      <td>20161104</td>\n",
       "    </tr>\n",
       "    <tr>\n",
       "      <th>151178</th>\n",
       "      <td>151178</td>\n",
       "      <td>2015</td>\n",
       "      <td>53</td>\n",
       "      <td>2148</td>\n",
       "      <td>7</td>\n",
       "      <td>2</td>\n",
       "      <td>NaN</td>\n",
       "      <td>NaN</td>\n",
       "      <td>NaN</td>\n",
       "      <td>NaN</td>\n",
       "      <td>...</td>\n",
       "      <td>NaN</td>\n",
       "      <td>NaN</td>\n",
       "      <td>190</td>\n",
       "      <td>530001</td>\n",
       "      <td>195</td>\n",
       "      <td>NaN</td>\n",
       "      <td>NaN</td>\n",
       "      <td>NaN</td>\n",
       "      <td>NaN</td>\n",
       "      <td>20161104</td>\n",
       "    </tr>\n",
       "    <tr>\n",
       "      <th>151179</th>\n",
       "      <td>151179</td>\n",
       "      <td>2015</td>\n",
       "      <td>53</td>\n",
       "      <td>2148</td>\n",
       "      <td>8</td>\n",
       "      <td>1</td>\n",
       "      <td>3.0</td>\n",
       "      <td>3.0</td>\n",
       "      <td>1.0</td>\n",
       "      <td>2.0</td>\n",
       "      <td>...</td>\n",
       "      <td>325.0</td>\n",
       "      <td>1.100000e+03</td>\n",
       "      <td>190</td>\n",
       "      <td>530001</td>\n",
       "      <td>195</td>\n",
       "      <td>3.0</td>\n",
       "      <td>3.660000e+02</td>\n",
       "      <td>2.0</td>\n",
       "      <td>1.0</td>\n",
       "      <td>20161104</td>\n",
       "    </tr>\n",
       "    <tr>\n",
       "      <th>151180</th>\n",
       "      <td>151180</td>\n",
       "      <td>2015</td>\n",
       "      <td>53</td>\n",
       "      <td>2148</td>\n",
       "      <td>9</td>\n",
       "      <td>1</td>\n",
       "      <td>4.0</td>\n",
       "      <td>4.0</td>\n",
       "      <td>1.0</td>\n",
       "      <td>2.0</td>\n",
       "      <td>...</td>\n",
       "      <td>324.0</td>\n",
       "      <td>1.000000e+12</td>\n",
       "      <td>190</td>\n",
       "      <td>530001</td>\n",
       "      <td>195</td>\n",
       "      <td>4.0</td>\n",
       "      <td>1.000000e+12</td>\n",
       "      <td>99.0</td>\n",
       "      <td>1.0</td>\n",
       "      <td>20161104</td>\n",
       "    </tr>\n",
       "    <tr>\n",
       "      <th>151181</th>\n",
       "      <td>151181</td>\n",
       "      <td>2015</td>\n",
       "      <td>53</td>\n",
       "      <td>2148</td>\n",
       "      <td>10</td>\n",
       "      <td>1</td>\n",
       "      <td>6.0</td>\n",
       "      <td>6.0</td>\n",
       "      <td>1.0</td>\n",
       "      <td>2.0</td>\n",
       "      <td>...</td>\n",
       "      <td>325.0</td>\n",
       "      <td>1.689000e+03</td>\n",
       "      <td>190</td>\n",
       "      <td>530001</td>\n",
       "      <td>195</td>\n",
       "      <td>6.0</td>\n",
       "      <td>2.810000e+02</td>\n",
       "      <td>2.0</td>\n",
       "      <td>1.0</td>\n",
       "      <td>20161104</td>\n",
       "    </tr>\n",
       "    <tr>\n",
       "      <th>151182</th>\n",
       "      <td>151182</td>\n",
       "      <td>2015</td>\n",
       "      <td>53</td>\n",
       "      <td>2148</td>\n",
       "      <td>11</td>\n",
       "      <td>1</td>\n",
       "      <td>4.0</td>\n",
       "      <td>2.0</td>\n",
       "      <td>1.0</td>\n",
       "      <td>2.0</td>\n",
       "      <td>...</td>\n",
       "      <td>324.0</td>\n",
       "      <td>3.100000e+03</td>\n",
       "      <td>190</td>\n",
       "      <td>530001</td>\n",
       "      <td>195</td>\n",
       "      <td>4.0</td>\n",
       "      <td>7.750000e+02</td>\n",
       "      <td>3.0</td>\n",
       "      <td>1.0</td>\n",
       "      <td>20161104</td>\n",
       "    </tr>\n",
       "    <tr>\n",
       "      <th>151183</th>\n",
       "      <td>151183</td>\n",
       "      <td>2015</td>\n",
       "      <td>53</td>\n",
       "      <td>2148</td>\n",
       "      <td>12</td>\n",
       "      <td>2</td>\n",
       "      <td>NaN</td>\n",
       "      <td>NaN</td>\n",
       "      <td>NaN</td>\n",
       "      <td>NaN</td>\n",
       "      <td>...</td>\n",
       "      <td>NaN</td>\n",
       "      <td>NaN</td>\n",
       "      <td>190</td>\n",
       "      <td>530001</td>\n",
       "      <td>195</td>\n",
       "      <td>NaN</td>\n",
       "      <td>NaN</td>\n",
       "      <td>NaN</td>\n",
       "      <td>NaN</td>\n",
       "      <td>20161104</td>\n",
       "    </tr>\n",
       "    <tr>\n",
       "      <th>151184</th>\n",
       "      <td>151184</td>\n",
       "      <td>2015</td>\n",
       "      <td>53</td>\n",
       "      <td>2148</td>\n",
       "      <td>13</td>\n",
       "      <td>1</td>\n",
       "      <td>4.0</td>\n",
       "      <td>2.0</td>\n",
       "      <td>1.0</td>\n",
       "      <td>2.0</td>\n",
       "      <td>...</td>\n",
       "      <td>325.0</td>\n",
       "      <td>2.700000e+03</td>\n",
       "      <td>190</td>\n",
       "      <td>530001</td>\n",
       "      <td>195</td>\n",
       "      <td>4.0</td>\n",
       "      <td>6.750000e+02</td>\n",
       "      <td>3.0</td>\n",
       "      <td>1.0</td>\n",
       "      <td>20161104</td>\n",
       "    </tr>\n",
       "    <tr>\n",
       "      <th>151185</th>\n",
       "      <td>151185</td>\n",
       "      <td>2015</td>\n",
       "      <td>53</td>\n",
       "      <td>2148</td>\n",
       "      <td>14</td>\n",
       "      <td>1</td>\n",
       "      <td>5.0</td>\n",
       "      <td>1.0</td>\n",
       "      <td>1.0</td>\n",
       "      <td>2.0</td>\n",
       "      <td>...</td>\n",
       "      <td>325.0</td>\n",
       "      <td>5.000000e+02</td>\n",
       "      <td>190</td>\n",
       "      <td>530001</td>\n",
       "      <td>195</td>\n",
       "      <td>5.0</td>\n",
       "      <td>1.000000e+02</td>\n",
       "      <td>1.0</td>\n",
       "      <td>1.0</td>\n",
       "      <td>20161104</td>\n",
       "    </tr>\n",
       "    <tr>\n",
       "      <th>151186</th>\n",
       "      <td>151186</td>\n",
       "      <td>2015</td>\n",
       "      <td>53</td>\n",
       "      <td>2148</td>\n",
       "      <td>15</td>\n",
       "      <td>1</td>\n",
       "      <td>3.0</td>\n",
       "      <td>3.0</td>\n",
       "      <td>1.0</td>\n",
       "      <td>2.0</td>\n",
       "      <td>...</td>\n",
       "      <td>324.0</td>\n",
       "      <td>2.388000e+03</td>\n",
       "      <td>190</td>\n",
       "      <td>530001</td>\n",
       "      <td>195</td>\n",
       "      <td>3.0</td>\n",
       "      <td>7.960000e+02</td>\n",
       "      <td>4.0</td>\n",
       "      <td>1.0</td>\n",
       "      <td>20161104</td>\n",
       "    </tr>\n",
       "    <tr>\n",
       "      <th>151187</th>\n",
       "      <td>151187</td>\n",
       "      <td>2015</td>\n",
       "      <td>53</td>\n",
       "      <td>2148</td>\n",
       "      <td>16</td>\n",
       "      <td>1</td>\n",
       "      <td>2.0</td>\n",
       "      <td>2.0</td>\n",
       "      <td>1.0</td>\n",
       "      <td>2.0</td>\n",
       "      <td>...</td>\n",
       "      <td>325.0</td>\n",
       "      <td>1.500000e+03</td>\n",
       "      <td>190</td>\n",
       "      <td>530001</td>\n",
       "      <td>195</td>\n",
       "      <td>2.0</td>\n",
       "      <td>7.500000e+02</td>\n",
       "      <td>3.0</td>\n",
       "      <td>1.0</td>\n",
       "      <td>20161104</td>\n",
       "    </tr>\n",
       "    <tr>\n",
       "      <th>151188</th>\n",
       "      <td>151188</td>\n",
       "      <td>2015</td>\n",
       "      <td>53</td>\n",
       "      <td>2148</td>\n",
       "      <td>17</td>\n",
       "      <td>1</td>\n",
       "      <td>5.0</td>\n",
       "      <td>4.0</td>\n",
       "      <td>1.0</td>\n",
       "      <td>2.0</td>\n",
       "      <td>...</td>\n",
       "      <td>325.0</td>\n",
       "      <td>1.296000e+03</td>\n",
       "      <td>190</td>\n",
       "      <td>530001</td>\n",
       "      <td>195</td>\n",
       "      <td>5.0</td>\n",
       "      <td>2.590000e+02</td>\n",
       "      <td>2.0</td>\n",
       "      <td>1.0</td>\n",
       "      <td>20161104</td>\n",
       "    </tr>\n",
       "  </tbody>\n",
       "</table>\n",
       "<p>151189 rows × 81 columns</p>\n",
       "</div>"
      ],
      "text/plain": [
       "        Unnamed: 0  V0101  UF  V0102  V0103  V0104  V0105  V0106  V0201  \\\n",
       "0                0   2015  11     15      1      1    1.0    1.0    1.0   \n",
       "1                1   2015  11     15      2      6    NaN    NaN    NaN   \n",
       "2                2   2015  11     15      3      1    1.0    1.0    1.0   \n",
       "3                3   2015  11     15      4      1    6.0    4.0    1.0   \n",
       "4                4   2015  11     15      5      1    2.0    2.0    1.0   \n",
       "5                5   2015  11     15      6      1    1.0    1.0    1.0   \n",
       "6                6   2015  11     15      7      1    2.0    2.0    1.0   \n",
       "7                7   2015  11     15      8      1    3.0    2.0    1.0   \n",
       "8                8   2015  11     15      9      1    5.0    4.0    1.0   \n",
       "9                9   2015  11     15     10      6    NaN    NaN    NaN   \n",
       "10              10   2015  11     15     11      1    3.0    3.0    1.0   \n",
       "11              11   2015  11     15     12      1    1.0    1.0    1.0   \n",
       "12              12   2015  11     15     13      5    NaN    NaN    NaN   \n",
       "13              13   2015  11     15     14      1    2.0    2.0    1.0   \n",
       "14              14   2015  11     15     15      6    NaN    NaN    NaN   \n",
       "15              15   2015  11     15     16      1    3.0    2.0    1.0   \n",
       "16              16   2015  11     23      1      1    1.0    1.0    1.0   \n",
       "17              17   2015  11     23      2      1    4.0    3.0    1.0   \n",
       "18              18   2015  11     23      3      1    5.0    5.0    1.0   \n",
       "19              19   2015  11     23      4      1    2.0    2.0    1.0   \n",
       "20              20   2015  11     23      5      1    3.0    3.0    1.0   \n",
       "21              21   2015  11     23      6      1    4.0    4.0    1.0   \n",
       "22              22   2015  11     23      7      2    NaN    NaN    NaN   \n",
       "23              23   2015  11     23      8      1    3.0    2.0    1.0   \n",
       "24              24   2015  11     23      9      5    NaN    NaN    NaN   \n",
       "25              25   2015  11     23     10      2    NaN    NaN    NaN   \n",
       "26              26   2015  11     23     11      1    3.0    3.0    1.0   \n",
       "27              27   2015  11     23     12      1    4.0    4.0    1.0   \n",
       "28              28   2015  11     23     13      1    2.0    2.0    1.0   \n",
       "29              29   2015  11     23     14      1    4.0    3.0    1.0   \n",
       "...            ...    ...  ..    ...    ...    ...    ...    ...    ...   \n",
       "151159      151159   2015  53   2130      3      1    3.0    3.0    1.0   \n",
       "151160      151160   2015  53   2130      4      2    NaN    NaN    NaN   \n",
       "151161      151161   2015  53   2130      5      1    5.0    5.0    1.0   \n",
       "151162      151162   2015  53   2130      6      2    NaN    NaN    NaN   \n",
       "151163      151163   2015  53   2130      7      1    5.0    2.0    1.0   \n",
       "151164      151164   2015  53   2130      8      1    5.0    2.0    1.0   \n",
       "151165      151165   2015  53   2130      9      1    4.0    4.0    1.0   \n",
       "151166      151166   2015  53   2130     10      2    NaN    NaN    NaN   \n",
       "151167      151167   2015  53   2130     11      1    4.0    4.0    1.0   \n",
       "151168      151168   2015  53   2130     12      1    3.0    3.0    1.0   \n",
       "151169      151169   2015  53   2130     13      1    3.0    3.0    1.0   \n",
       "151170      151170   2015  53   2130     14      1    2.0    1.0    1.0   \n",
       "151171      151171   2015  53   2130     15      1    4.0    4.0    1.0   \n",
       "151172      151172   2015  53   2148      1      1    2.0    2.0    1.0   \n",
       "151173      151173   2015  53   2148      2      1    6.0    4.0    1.0   \n",
       "151174      151174   2015  53   2148      3      2    NaN    NaN    NaN   \n",
       "151175      151175   2015  53   2148      4      1    5.0    5.0    1.0   \n",
       "151176      151176   2015  53   2148      5      4    NaN    NaN    NaN   \n",
       "151177      151177   2015  53   2148      6      3    NaN    NaN    NaN   \n",
       "151178      151178   2015  53   2148      7      2    NaN    NaN    NaN   \n",
       "151179      151179   2015  53   2148      8      1    3.0    3.0    1.0   \n",
       "151180      151180   2015  53   2148      9      1    4.0    4.0    1.0   \n",
       "151181      151181   2015  53   2148     10      1    6.0    6.0    1.0   \n",
       "151182      151182   2015  53   2148     11      1    4.0    2.0    1.0   \n",
       "151183      151183   2015  53   2148     12      2    NaN    NaN    NaN   \n",
       "151184      151184   2015  53   2148     13      1    4.0    2.0    1.0   \n",
       "151185      151185   2015  53   2148     14      1    5.0    1.0    1.0   \n",
       "151186      151186   2015  53   2148     15      1    3.0    3.0    1.0   \n",
       "151187      151187   2015  53   2148     16      1    2.0    2.0    1.0   \n",
       "151188      151188   2015  53   2148     17      1    5.0    4.0    1.0   \n",
       "\n",
       "        V0202    ...     V4611         V4614  UPA   V4617  V4618  V4620  \\\n",
       "0         4.0    ...     270.0  8.000000e+02  191  110001      1    1.0   \n",
       "1         NaN    ...       NaN           NaN  191  110001      1    NaN   \n",
       "2         4.0    ...     270.0  1.150000e+03  191  110001      1    1.0   \n",
       "3         2.0    ...     270.0  4.760000e+03  191  110001      1    6.0   \n",
       "4         2.0    ...     271.0  5.800000e+03  191  110001      1    2.0   \n",
       "5         2.0    ...     270.0  1.990000e+03  191  110001      1    1.0   \n",
       "6         2.0    ...     270.0  7.000000e+02  191  110001      1    2.0   \n",
       "7         2.0    ...     270.0  4.000000e+03  191  110001      1    3.0   \n",
       "8         2.0    ...     271.0  4.090000e+03  191  110001      1    5.0   \n",
       "9         NaN    ...       NaN           NaN  191  110001      1    NaN   \n",
       "10        2.0    ...     270.0  5.150000e+03  191  110001      1    3.0   \n",
       "11        2.0    ...     270.0  2.500000e+03  191  110001      1    1.0   \n",
       "12        NaN    ...       NaN           NaN  191  110001      1    NaN   \n",
       "13        4.0    ...     270.0  2.800000e+03  191  110001      1    2.0   \n",
       "14        NaN    ...       NaN           NaN  191  110001      1    NaN   \n",
       "15        4.0    ...     270.0  2.000000e+03  191  110001      1    3.0   \n",
       "16        2.0    ...     270.0  7.880000e+02  191  110001      2    1.0   \n",
       "17        2.0    ...     270.0  3.000000e+03  191  110001      2    4.0   \n",
       "18        2.0    ...     270.0  7.188000e+03  191  110001      2    5.0   \n",
       "19        2.0    ...     270.0  1.200000e+03  191  110001      2    2.0   \n",
       "20        2.0    ...     270.0  2.800000e+03  191  110001      2    3.0   \n",
       "21        2.0    ...     270.0  4.350000e+03  191  110001      2    4.0   \n",
       "22        NaN    ...       NaN           NaN  191  110001      2    NaN   \n",
       "23        2.0    ...     271.0  8.000000e+03  191  110001      2    3.0   \n",
       "24        NaN    ...       NaN           NaN  191  110001      2    NaN   \n",
       "25        NaN    ...       NaN           NaN  191  110001      2    NaN   \n",
       "26        2.0    ...     270.0  2.100000e+03  191  110001      2    3.0   \n",
       "27        2.0    ...     270.0  1.330000e+04  191  110001      2    4.0   \n",
       "28        2.0    ...     270.0  7.000000e+03  191  110001      2    2.0   \n",
       "29        2.0    ...     270.0  4.688000e+03  191  110001      2    4.0   \n",
       "...       ...    ...       ...           ...  ...     ...    ...    ...   \n",
       "151159    2.0    ...     325.0  1.820000e+04  190  530001    213    3.0   \n",
       "151160    NaN    ...       NaN           NaN  190  530001    213    NaN   \n",
       "151161    2.0    ...     325.0  3.100000e+04  190  530001    213    5.0   \n",
       "151162    NaN    ...       NaN           NaN  190  530001    213    NaN   \n",
       "151163    2.0    ...     324.0  1.250000e+04  190  530001    213    5.0   \n",
       "151164    2.0    ...     324.0  3.000000e+04  190  530001    213    5.0   \n",
       "151165    2.0    ...     325.0  3.040000e+04  190  530001    213    4.0   \n",
       "151166    NaN    ...       NaN           NaN  190  530001    213    NaN   \n",
       "151167    2.0    ...     324.0  3.750000e+04  190  530001    213    4.0   \n",
       "151168    2.0    ...     325.0  3.970000e+04  190  530001    213    2.0   \n",
       "151169    2.0    ...     324.0  3.170000e+04  190  530001    213    3.0   \n",
       "151170    2.0    ...     325.0  3.064000e+04  190  530001    213    2.0   \n",
       "151171    2.0    ...     324.0  1.300000e+04  190  530001    213    4.0   \n",
       "151172    2.0    ...     325.0  2.712000e+03  190  530001    195    2.0   \n",
       "151173    2.0    ...     324.0  2.630000e+03  190  530001    195    6.0   \n",
       "151174    NaN    ...       NaN           NaN  190  530001    195    NaN   \n",
       "151175    2.0    ...     324.0  3.176000e+03  190  530001    195    5.0   \n",
       "151176    NaN    ...       NaN           NaN  190  530001    195    NaN   \n",
       "151177    NaN    ...       NaN           NaN  190  530001    195    NaN   \n",
       "151178    NaN    ...       NaN           NaN  190  530001    195    NaN   \n",
       "151179    2.0    ...     325.0  1.100000e+03  190  530001    195    3.0   \n",
       "151180    2.0    ...     324.0  1.000000e+12  190  530001    195    4.0   \n",
       "151181    2.0    ...     325.0  1.689000e+03  190  530001    195    6.0   \n",
       "151182    2.0    ...     324.0  3.100000e+03  190  530001    195    4.0   \n",
       "151183    NaN    ...       NaN           NaN  190  530001    195    NaN   \n",
       "151184    2.0    ...     325.0  2.700000e+03  190  530001    195    4.0   \n",
       "151185    2.0    ...     325.0  5.000000e+02  190  530001    195    5.0   \n",
       "151186    2.0    ...     324.0  2.388000e+03  190  530001    195    3.0   \n",
       "151187    2.0    ...     325.0  1.500000e+03  190  530001    195    2.0   \n",
       "151188    2.0    ...     325.0  1.296000e+03  190  530001    195    5.0   \n",
       "\n",
       "               V4621  V4622  V4624     V9992  \n",
       "0       8.000000e+02    4.0    1.0  20161104  \n",
       "1                NaN    NaN    NaN  20161104  \n",
       "2       1.150000e+03    4.0    1.0  20161104  \n",
       "3       7.930000e+02    4.0    2.0  20161104  \n",
       "4       2.900000e+03    6.0    2.0  20161104  \n",
       "5       1.990000e+03    5.0    1.0  20161104  \n",
       "6       3.500000e+02    2.0    1.0  20161104  \n",
       "7       1.333000e+03    4.0    1.0  20161104  \n",
       "8       8.180000e+02    4.0    1.0  20161104  \n",
       "9                NaN    NaN    NaN  20161104  \n",
       "10      1.716000e+03    5.0    1.0  20161104  \n",
       "11      2.500000e+03    6.0    1.0  20161104  \n",
       "12               NaN    NaN    NaN  20161104  \n",
       "13      1.400000e+03    4.0    1.0  20161104  \n",
       "14               NaN    NaN    NaN  20161104  \n",
       "15      6.660000e+02    3.0    2.0  20161104  \n",
       "16      7.880000e+02    3.0    1.0  20161104  \n",
       "17      7.500000e+02    3.0    1.0  20161104  \n",
       "18      1.437000e+03    4.0    1.0  20161104  \n",
       "19      6.000000e+02    3.0    1.0  20161104  \n",
       "20      9.330000e+02    4.0    1.0  20161104  \n",
       "21      1.087000e+03    4.0    1.0  20161104  \n",
       "22               NaN    NaN    NaN  20161104  \n",
       "23      2.666000e+03    6.0    2.0  20161104  \n",
       "24               NaN    NaN    NaN  20161104  \n",
       "25               NaN    NaN    NaN  20161104  \n",
       "26      7.000000e+02    3.0    2.0  20161104  \n",
       "27      3.325000e+03    6.0    2.0  20161104  \n",
       "28      3.500000e+03    6.0    1.0  20161104  \n",
       "29      1.172000e+03    4.0    1.0  20161104  \n",
       "...              ...    ...    ...       ...  \n",
       "151159  6.066000e+03    7.0    1.0  20161104  \n",
       "151160           NaN    NaN    NaN  20161104  \n",
       "151161  6.200000e+03    7.0    1.0  20161104  \n",
       "151162           NaN    NaN    NaN  20161104  \n",
       "151163  2.500000e+03    6.0    1.0  20161104  \n",
       "151164  6.000000e+03    7.0    1.0  20161104  \n",
       "151165  7.600000e+03    7.0    1.0  20161104  \n",
       "151166           NaN    NaN    NaN  20161104  \n",
       "151167  9.375000e+03    7.0    1.0  20161104  \n",
       "151168  1.985000e+04    7.0    1.0  20161104  \n",
       "151169  1.056600e+04    7.0    1.0  20161104  \n",
       "151170  1.532000e+04    7.0    1.0  20161104  \n",
       "151171  3.250000e+03    6.0    1.0  20161104  \n",
       "151172  1.356000e+03    4.0    1.0  20161104  \n",
       "151173  4.380000e+02    3.0    1.0  20161104  \n",
       "151174           NaN    NaN    NaN  20161104  \n",
       "151175  6.350000e+02    3.0    1.0  20161104  \n",
       "151176           NaN    NaN    NaN  20161104  \n",
       "151177           NaN    NaN    NaN  20161104  \n",
       "151178           NaN    NaN    NaN  20161104  \n",
       "151179  3.660000e+02    2.0    1.0  20161104  \n",
       "151180  1.000000e+12   99.0    1.0  20161104  \n",
       "151181  2.810000e+02    2.0    1.0  20161104  \n",
       "151182  7.750000e+02    3.0    1.0  20161104  \n",
       "151183           NaN    NaN    NaN  20161104  \n",
       "151184  6.750000e+02    3.0    1.0  20161104  \n",
       "151185  1.000000e+02    1.0    1.0  20161104  \n",
       "151186  7.960000e+02    4.0    1.0  20161104  \n",
       "151187  7.500000e+02    3.0    1.0  20161104  \n",
       "151188  2.590000e+02    2.0    1.0  20161104  \n",
       "\n",
       "[151189 rows x 81 columns]"
      ]
     },
     "execution_count": 31,
     "metadata": {},
     "output_type": "execute_result"
    }
   ],
   "source": [
    "dados"
   ]
  },
  {
   "cell_type": "markdown",
   "metadata": {
    "slideshow": {
     "slide_type": "slide"
    }
   },
   "source": [
    "## head / tail"
   ]
  },
  {
   "cell_type": "markdown",
   "metadata": {
    "slideshow": {
     "slide_type": "fragment"
    }
   },
   "source": [
    "O método _head()_ de um _DataFrame_ mostra as primeiras linhas"
   ]
  },
  {
   "cell_type": "code",
   "execution_count": 32,
   "metadata": {
    "slideshow": {
     "slide_type": "fragment"
    }
   },
   "outputs": [
    {
     "data": {
      "text/html": [
       "<div>\n",
       "<style>\n",
       "    .dataframe thead tr:only-child th {\n",
       "        text-align: right;\n",
       "    }\n",
       "\n",
       "    .dataframe thead th {\n",
       "        text-align: left;\n",
       "    }\n",
       "\n",
       "    .dataframe tbody tr th {\n",
       "        vertical-align: top;\n",
       "    }\n",
       "</style>\n",
       "<table border=\"1\" class=\"dataframe\">\n",
       "  <thead>\n",
       "    <tr style=\"text-align: right;\">\n",
       "      <th></th>\n",
       "      <th>Unnamed: 0</th>\n",
       "      <th>V0101</th>\n",
       "      <th>UF</th>\n",
       "      <th>V0102</th>\n",
       "      <th>V0103</th>\n",
       "      <th>V0104</th>\n",
       "      <th>V0105</th>\n",
       "      <th>V0106</th>\n",
       "      <th>V0201</th>\n",
       "      <th>V0202</th>\n",
       "      <th>...</th>\n",
       "      <th>V4611</th>\n",
       "      <th>V4614</th>\n",
       "      <th>UPA</th>\n",
       "      <th>V4617</th>\n",
       "      <th>V4618</th>\n",
       "      <th>V4620</th>\n",
       "      <th>V4621</th>\n",
       "      <th>V4622</th>\n",
       "      <th>V4624</th>\n",
       "      <th>V9992</th>\n",
       "    </tr>\n",
       "  </thead>\n",
       "  <tbody>\n",
       "    <tr>\n",
       "      <th>0</th>\n",
       "      <td>0</td>\n",
       "      <td>2015</td>\n",
       "      <td>11</td>\n",
       "      <td>15</td>\n",
       "      <td>1</td>\n",
       "      <td>1</td>\n",
       "      <td>1.0</td>\n",
       "      <td>1.0</td>\n",
       "      <td>1.0</td>\n",
       "      <td>4.0</td>\n",
       "      <td>...</td>\n",
       "      <td>270.0</td>\n",
       "      <td>800.0</td>\n",
       "      <td>191</td>\n",
       "      <td>110001</td>\n",
       "      <td>1</td>\n",
       "      <td>1.0</td>\n",
       "      <td>800.0</td>\n",
       "      <td>4.0</td>\n",
       "      <td>1.0</td>\n",
       "      <td>20161104</td>\n",
       "    </tr>\n",
       "    <tr>\n",
       "      <th>1</th>\n",
       "      <td>1</td>\n",
       "      <td>2015</td>\n",
       "      <td>11</td>\n",
       "      <td>15</td>\n",
       "      <td>2</td>\n",
       "      <td>6</td>\n",
       "      <td>NaN</td>\n",
       "      <td>NaN</td>\n",
       "      <td>NaN</td>\n",
       "      <td>NaN</td>\n",
       "      <td>...</td>\n",
       "      <td>NaN</td>\n",
       "      <td>NaN</td>\n",
       "      <td>191</td>\n",
       "      <td>110001</td>\n",
       "      <td>1</td>\n",
       "      <td>NaN</td>\n",
       "      <td>NaN</td>\n",
       "      <td>NaN</td>\n",
       "      <td>NaN</td>\n",
       "      <td>20161104</td>\n",
       "    </tr>\n",
       "    <tr>\n",
       "      <th>2</th>\n",
       "      <td>2</td>\n",
       "      <td>2015</td>\n",
       "      <td>11</td>\n",
       "      <td>15</td>\n",
       "      <td>3</td>\n",
       "      <td>1</td>\n",
       "      <td>1.0</td>\n",
       "      <td>1.0</td>\n",
       "      <td>1.0</td>\n",
       "      <td>4.0</td>\n",
       "      <td>...</td>\n",
       "      <td>270.0</td>\n",
       "      <td>1150.0</td>\n",
       "      <td>191</td>\n",
       "      <td>110001</td>\n",
       "      <td>1</td>\n",
       "      <td>1.0</td>\n",
       "      <td>1150.0</td>\n",
       "      <td>4.0</td>\n",
       "      <td>1.0</td>\n",
       "      <td>20161104</td>\n",
       "    </tr>\n",
       "    <tr>\n",
       "      <th>3</th>\n",
       "      <td>3</td>\n",
       "      <td>2015</td>\n",
       "      <td>11</td>\n",
       "      <td>15</td>\n",
       "      <td>4</td>\n",
       "      <td>1</td>\n",
       "      <td>6.0</td>\n",
       "      <td>4.0</td>\n",
       "      <td>1.0</td>\n",
       "      <td>2.0</td>\n",
       "      <td>...</td>\n",
       "      <td>270.0</td>\n",
       "      <td>4760.0</td>\n",
       "      <td>191</td>\n",
       "      <td>110001</td>\n",
       "      <td>1</td>\n",
       "      <td>6.0</td>\n",
       "      <td>793.0</td>\n",
       "      <td>4.0</td>\n",
       "      <td>2.0</td>\n",
       "      <td>20161104</td>\n",
       "    </tr>\n",
       "    <tr>\n",
       "      <th>4</th>\n",
       "      <td>4</td>\n",
       "      <td>2015</td>\n",
       "      <td>11</td>\n",
       "      <td>15</td>\n",
       "      <td>5</td>\n",
       "      <td>1</td>\n",
       "      <td>2.0</td>\n",
       "      <td>2.0</td>\n",
       "      <td>1.0</td>\n",
       "      <td>2.0</td>\n",
       "      <td>...</td>\n",
       "      <td>271.0</td>\n",
       "      <td>5800.0</td>\n",
       "      <td>191</td>\n",
       "      <td>110001</td>\n",
       "      <td>1</td>\n",
       "      <td>2.0</td>\n",
       "      <td>2900.0</td>\n",
       "      <td>6.0</td>\n",
       "      <td>2.0</td>\n",
       "      <td>20161104</td>\n",
       "    </tr>\n",
       "  </tbody>\n",
       "</table>\n",
       "<p>5 rows × 81 columns</p>\n",
       "</div>"
      ],
      "text/plain": [
       "   Unnamed: 0  V0101  UF  V0102  V0103  V0104  V0105  V0106  V0201  V0202  \\\n",
       "0           0   2015  11     15      1      1    1.0    1.0    1.0    4.0   \n",
       "1           1   2015  11     15      2      6    NaN    NaN    NaN    NaN   \n",
       "2           2   2015  11     15      3      1    1.0    1.0    1.0    4.0   \n",
       "3           3   2015  11     15      4      1    6.0    4.0    1.0    2.0   \n",
       "4           4   2015  11     15      5      1    2.0    2.0    1.0    2.0   \n",
       "\n",
       "     ...     V4611   V4614  UPA   V4617  V4618  V4620   V4621  V4622  V4624  \\\n",
       "0    ...     270.0   800.0  191  110001      1    1.0   800.0    4.0    1.0   \n",
       "1    ...       NaN     NaN  191  110001      1    NaN     NaN    NaN    NaN   \n",
       "2    ...     270.0  1150.0  191  110001      1    1.0  1150.0    4.0    1.0   \n",
       "3    ...     270.0  4760.0  191  110001      1    6.0   793.0    4.0    2.0   \n",
       "4    ...     271.0  5800.0  191  110001      1    2.0  2900.0    6.0    2.0   \n",
       "\n",
       "      V9992  \n",
       "0  20161104  \n",
       "1  20161104  \n",
       "2  20161104  \n",
       "3  20161104  \n",
       "4  20161104  \n",
       "\n",
       "[5 rows x 81 columns]"
      ]
     },
     "execution_count": 32,
     "metadata": {},
     "output_type": "execute_result"
    }
   ],
   "source": [
    "dados.head()"
   ]
  },
  {
   "cell_type": "markdown",
   "metadata": {
    "slideshow": {
     "slide_type": "slide"
    }
   },
   "source": [
    "## Método tail\n",
    "O método _tail()_ mostra o final da tabela"
   ]
  },
  {
   "cell_type": "code",
   "execution_count": 33,
   "metadata": {
    "slideshow": {
     "slide_type": "fragment"
    }
   },
   "outputs": [
    {
     "data": {
      "text/html": [
       "<div>\n",
       "<style>\n",
       "    .dataframe thead tr:only-child th {\n",
       "        text-align: right;\n",
       "    }\n",
       "\n",
       "    .dataframe thead th {\n",
       "        text-align: left;\n",
       "    }\n",
       "\n",
       "    .dataframe tbody tr th {\n",
       "        vertical-align: top;\n",
       "    }\n",
       "</style>\n",
       "<table border=\"1\" class=\"dataframe\">\n",
       "  <thead>\n",
       "    <tr style=\"text-align: right;\">\n",
       "      <th></th>\n",
       "      <th>Unnamed: 0</th>\n",
       "      <th>V0101</th>\n",
       "      <th>UF</th>\n",
       "      <th>V0102</th>\n",
       "      <th>V0103</th>\n",
       "      <th>V0104</th>\n",
       "      <th>V0105</th>\n",
       "      <th>V0106</th>\n",
       "      <th>V0201</th>\n",
       "      <th>V0202</th>\n",
       "      <th>...</th>\n",
       "      <th>V4611</th>\n",
       "      <th>V4614</th>\n",
       "      <th>UPA</th>\n",
       "      <th>V4617</th>\n",
       "      <th>V4618</th>\n",
       "      <th>V4620</th>\n",
       "      <th>V4621</th>\n",
       "      <th>V4622</th>\n",
       "      <th>V4624</th>\n",
       "      <th>V9992</th>\n",
       "    </tr>\n",
       "  </thead>\n",
       "  <tbody>\n",
       "    <tr>\n",
       "      <th>151184</th>\n",
       "      <td>151184</td>\n",
       "      <td>2015</td>\n",
       "      <td>53</td>\n",
       "      <td>2148</td>\n",
       "      <td>13</td>\n",
       "      <td>1</td>\n",
       "      <td>4.0</td>\n",
       "      <td>2.0</td>\n",
       "      <td>1.0</td>\n",
       "      <td>2.0</td>\n",
       "      <td>...</td>\n",
       "      <td>325.0</td>\n",
       "      <td>2700.0</td>\n",
       "      <td>190</td>\n",
       "      <td>530001</td>\n",
       "      <td>195</td>\n",
       "      <td>4.0</td>\n",
       "      <td>675.0</td>\n",
       "      <td>3.0</td>\n",
       "      <td>1.0</td>\n",
       "      <td>20161104</td>\n",
       "    </tr>\n",
       "    <tr>\n",
       "      <th>151185</th>\n",
       "      <td>151185</td>\n",
       "      <td>2015</td>\n",
       "      <td>53</td>\n",
       "      <td>2148</td>\n",
       "      <td>14</td>\n",
       "      <td>1</td>\n",
       "      <td>5.0</td>\n",
       "      <td>1.0</td>\n",
       "      <td>1.0</td>\n",
       "      <td>2.0</td>\n",
       "      <td>...</td>\n",
       "      <td>325.0</td>\n",
       "      <td>500.0</td>\n",
       "      <td>190</td>\n",
       "      <td>530001</td>\n",
       "      <td>195</td>\n",
       "      <td>5.0</td>\n",
       "      <td>100.0</td>\n",
       "      <td>1.0</td>\n",
       "      <td>1.0</td>\n",
       "      <td>20161104</td>\n",
       "    </tr>\n",
       "    <tr>\n",
       "      <th>151186</th>\n",
       "      <td>151186</td>\n",
       "      <td>2015</td>\n",
       "      <td>53</td>\n",
       "      <td>2148</td>\n",
       "      <td>15</td>\n",
       "      <td>1</td>\n",
       "      <td>3.0</td>\n",
       "      <td>3.0</td>\n",
       "      <td>1.0</td>\n",
       "      <td>2.0</td>\n",
       "      <td>...</td>\n",
       "      <td>324.0</td>\n",
       "      <td>2388.0</td>\n",
       "      <td>190</td>\n",
       "      <td>530001</td>\n",
       "      <td>195</td>\n",
       "      <td>3.0</td>\n",
       "      <td>796.0</td>\n",
       "      <td>4.0</td>\n",
       "      <td>1.0</td>\n",
       "      <td>20161104</td>\n",
       "    </tr>\n",
       "    <tr>\n",
       "      <th>151187</th>\n",
       "      <td>151187</td>\n",
       "      <td>2015</td>\n",
       "      <td>53</td>\n",
       "      <td>2148</td>\n",
       "      <td>16</td>\n",
       "      <td>1</td>\n",
       "      <td>2.0</td>\n",
       "      <td>2.0</td>\n",
       "      <td>1.0</td>\n",
       "      <td>2.0</td>\n",
       "      <td>...</td>\n",
       "      <td>325.0</td>\n",
       "      <td>1500.0</td>\n",
       "      <td>190</td>\n",
       "      <td>530001</td>\n",
       "      <td>195</td>\n",
       "      <td>2.0</td>\n",
       "      <td>750.0</td>\n",
       "      <td>3.0</td>\n",
       "      <td>1.0</td>\n",
       "      <td>20161104</td>\n",
       "    </tr>\n",
       "    <tr>\n",
       "      <th>151188</th>\n",
       "      <td>151188</td>\n",
       "      <td>2015</td>\n",
       "      <td>53</td>\n",
       "      <td>2148</td>\n",
       "      <td>17</td>\n",
       "      <td>1</td>\n",
       "      <td>5.0</td>\n",
       "      <td>4.0</td>\n",
       "      <td>1.0</td>\n",
       "      <td>2.0</td>\n",
       "      <td>...</td>\n",
       "      <td>325.0</td>\n",
       "      <td>1296.0</td>\n",
       "      <td>190</td>\n",
       "      <td>530001</td>\n",
       "      <td>195</td>\n",
       "      <td>5.0</td>\n",
       "      <td>259.0</td>\n",
       "      <td>2.0</td>\n",
       "      <td>1.0</td>\n",
       "      <td>20161104</td>\n",
       "    </tr>\n",
       "  </tbody>\n",
       "</table>\n",
       "<p>5 rows × 81 columns</p>\n",
       "</div>"
      ],
      "text/plain": [
       "        Unnamed: 0  V0101  UF  V0102  V0103  V0104  V0105  V0106  V0201  \\\n",
       "151184      151184   2015  53   2148     13      1    4.0    2.0    1.0   \n",
       "151185      151185   2015  53   2148     14      1    5.0    1.0    1.0   \n",
       "151186      151186   2015  53   2148     15      1    3.0    3.0    1.0   \n",
       "151187      151187   2015  53   2148     16      1    2.0    2.0    1.0   \n",
       "151188      151188   2015  53   2148     17      1    5.0    4.0    1.0   \n",
       "\n",
       "        V0202    ...     V4611   V4614  UPA   V4617  V4618  V4620  V4621  \\\n",
       "151184    2.0    ...     325.0  2700.0  190  530001    195    4.0  675.0   \n",
       "151185    2.0    ...     325.0   500.0  190  530001    195    5.0  100.0   \n",
       "151186    2.0    ...     324.0  2388.0  190  530001    195    3.0  796.0   \n",
       "151187    2.0    ...     325.0  1500.0  190  530001    195    2.0  750.0   \n",
       "151188    2.0    ...     325.0  1296.0  190  530001    195    5.0  259.0   \n",
       "\n",
       "        V4622  V4624     V9992  \n",
       "151184    3.0    1.0  20161104  \n",
       "151185    1.0    1.0  20161104  \n",
       "151186    4.0    1.0  20161104  \n",
       "151187    3.0    1.0  20161104  \n",
       "151188    2.0    1.0  20161104  \n",
       "\n",
       "[5 rows x 81 columns]"
      ]
     },
     "execution_count": 33,
     "metadata": {},
     "output_type": "execute_result"
    }
   ],
   "source": [
    "dados.tail(5)"
   ]
  },
  {
   "cell_type": "code",
   "execution_count": 34,
   "metadata": {
    "slideshow": {
     "slide_type": "skip"
    }
   },
   "outputs": [
    {
     "data": {
      "text/html": [
       "<div>\n",
       "<style>\n",
       "    .dataframe thead tr:only-child th {\n",
       "        text-align: right;\n",
       "    }\n",
       "\n",
       "    .dataframe thead th {\n",
       "        text-align: left;\n",
       "    }\n",
       "\n",
       "    .dataframe tbody tr th {\n",
       "        vertical-align: top;\n",
       "    }\n",
       "</style>\n",
       "<table border=\"1\" class=\"dataframe\">\n",
       "  <thead>\n",
       "    <tr style=\"text-align: right;\">\n",
       "      <th></th>\n",
       "      <th>Unnamed: 0</th>\n",
       "      <th>V0101</th>\n",
       "      <th>UF</th>\n",
       "      <th>V0102</th>\n",
       "      <th>V0103</th>\n",
       "      <th>V0104</th>\n",
       "      <th>V0105</th>\n",
       "      <th>V0106</th>\n",
       "      <th>V0201</th>\n",
       "      <th>V0202</th>\n",
       "      <th>...</th>\n",
       "      <th>V4611</th>\n",
       "      <th>V4614</th>\n",
       "      <th>UPA</th>\n",
       "      <th>V4617</th>\n",
       "      <th>V4618</th>\n",
       "      <th>V4620</th>\n",
       "      <th>V4621</th>\n",
       "      <th>V4622</th>\n",
       "      <th>V4624</th>\n",
       "      <th>V9992</th>\n",
       "    </tr>\n",
       "  </thead>\n",
       "  <tbody>\n",
       "    <tr>\n",
       "      <th>151182</th>\n",
       "      <td>151182</td>\n",
       "      <td>2015</td>\n",
       "      <td>53</td>\n",
       "      <td>2148</td>\n",
       "      <td>11</td>\n",
       "      <td>1</td>\n",
       "      <td>4.0</td>\n",
       "      <td>2.0</td>\n",
       "      <td>1.0</td>\n",
       "      <td>2.0</td>\n",
       "      <td>...</td>\n",
       "      <td>324.0</td>\n",
       "      <td>3100.0</td>\n",
       "      <td>190</td>\n",
       "      <td>530001</td>\n",
       "      <td>195</td>\n",
       "      <td>4.0</td>\n",
       "      <td>775.0</td>\n",
       "      <td>3.0</td>\n",
       "      <td>1.0</td>\n",
       "      <td>20161104</td>\n",
       "    </tr>\n",
       "    <tr>\n",
       "      <th>151183</th>\n",
       "      <td>151183</td>\n",
       "      <td>2015</td>\n",
       "      <td>53</td>\n",
       "      <td>2148</td>\n",
       "      <td>12</td>\n",
       "      <td>2</td>\n",
       "      <td>NaN</td>\n",
       "      <td>NaN</td>\n",
       "      <td>NaN</td>\n",
       "      <td>NaN</td>\n",
       "      <td>...</td>\n",
       "      <td>NaN</td>\n",
       "      <td>NaN</td>\n",
       "      <td>190</td>\n",
       "      <td>530001</td>\n",
       "      <td>195</td>\n",
       "      <td>NaN</td>\n",
       "      <td>NaN</td>\n",
       "      <td>NaN</td>\n",
       "      <td>NaN</td>\n",
       "      <td>20161104</td>\n",
       "    </tr>\n",
       "    <tr>\n",
       "      <th>151184</th>\n",
       "      <td>151184</td>\n",
       "      <td>2015</td>\n",
       "      <td>53</td>\n",
       "      <td>2148</td>\n",
       "      <td>13</td>\n",
       "      <td>1</td>\n",
       "      <td>4.0</td>\n",
       "      <td>2.0</td>\n",
       "      <td>1.0</td>\n",
       "      <td>2.0</td>\n",
       "      <td>...</td>\n",
       "      <td>325.0</td>\n",
       "      <td>2700.0</td>\n",
       "      <td>190</td>\n",
       "      <td>530001</td>\n",
       "      <td>195</td>\n",
       "      <td>4.0</td>\n",
       "      <td>675.0</td>\n",
       "      <td>3.0</td>\n",
       "      <td>1.0</td>\n",
       "      <td>20161104</td>\n",
       "    </tr>\n",
       "    <tr>\n",
       "      <th>151185</th>\n",
       "      <td>151185</td>\n",
       "      <td>2015</td>\n",
       "      <td>53</td>\n",
       "      <td>2148</td>\n",
       "      <td>14</td>\n",
       "      <td>1</td>\n",
       "      <td>5.0</td>\n",
       "      <td>1.0</td>\n",
       "      <td>1.0</td>\n",
       "      <td>2.0</td>\n",
       "      <td>...</td>\n",
       "      <td>325.0</td>\n",
       "      <td>500.0</td>\n",
       "      <td>190</td>\n",
       "      <td>530001</td>\n",
       "      <td>195</td>\n",
       "      <td>5.0</td>\n",
       "      <td>100.0</td>\n",
       "      <td>1.0</td>\n",
       "      <td>1.0</td>\n",
       "      <td>20161104</td>\n",
       "    </tr>\n",
       "    <tr>\n",
       "      <th>151186</th>\n",
       "      <td>151186</td>\n",
       "      <td>2015</td>\n",
       "      <td>53</td>\n",
       "      <td>2148</td>\n",
       "      <td>15</td>\n",
       "      <td>1</td>\n",
       "      <td>3.0</td>\n",
       "      <td>3.0</td>\n",
       "      <td>1.0</td>\n",
       "      <td>2.0</td>\n",
       "      <td>...</td>\n",
       "      <td>324.0</td>\n",
       "      <td>2388.0</td>\n",
       "      <td>190</td>\n",
       "      <td>530001</td>\n",
       "      <td>195</td>\n",
       "      <td>3.0</td>\n",
       "      <td>796.0</td>\n",
       "      <td>4.0</td>\n",
       "      <td>1.0</td>\n",
       "      <td>20161104</td>\n",
       "    </tr>\n",
       "    <tr>\n",
       "      <th>151187</th>\n",
       "      <td>151187</td>\n",
       "      <td>2015</td>\n",
       "      <td>53</td>\n",
       "      <td>2148</td>\n",
       "      <td>16</td>\n",
       "      <td>1</td>\n",
       "      <td>2.0</td>\n",
       "      <td>2.0</td>\n",
       "      <td>1.0</td>\n",
       "      <td>2.0</td>\n",
       "      <td>...</td>\n",
       "      <td>325.0</td>\n",
       "      <td>1500.0</td>\n",
       "      <td>190</td>\n",
       "      <td>530001</td>\n",
       "      <td>195</td>\n",
       "      <td>2.0</td>\n",
       "      <td>750.0</td>\n",
       "      <td>3.0</td>\n",
       "      <td>1.0</td>\n",
       "      <td>20161104</td>\n",
       "    </tr>\n",
       "    <tr>\n",
       "      <th>151188</th>\n",
       "      <td>151188</td>\n",
       "      <td>2015</td>\n",
       "      <td>53</td>\n",
       "      <td>2148</td>\n",
       "      <td>17</td>\n",
       "      <td>1</td>\n",
       "      <td>5.0</td>\n",
       "      <td>4.0</td>\n",
       "      <td>1.0</td>\n",
       "      <td>2.0</td>\n",
       "      <td>...</td>\n",
       "      <td>325.0</td>\n",
       "      <td>1296.0</td>\n",
       "      <td>190</td>\n",
       "      <td>530001</td>\n",
       "      <td>195</td>\n",
       "      <td>5.0</td>\n",
       "      <td>259.0</td>\n",
       "      <td>2.0</td>\n",
       "      <td>1.0</td>\n",
       "      <td>20161104</td>\n",
       "    </tr>\n",
       "  </tbody>\n",
       "</table>\n",
       "<p>7 rows × 81 columns</p>\n",
       "</div>"
      ],
      "text/plain": [
       "        Unnamed: 0  V0101  UF  V0102  V0103  V0104  V0105  V0106  V0201  \\\n",
       "151182      151182   2015  53   2148     11      1    4.0    2.0    1.0   \n",
       "151183      151183   2015  53   2148     12      2    NaN    NaN    NaN   \n",
       "151184      151184   2015  53   2148     13      1    4.0    2.0    1.0   \n",
       "151185      151185   2015  53   2148     14      1    5.0    1.0    1.0   \n",
       "151186      151186   2015  53   2148     15      1    3.0    3.0    1.0   \n",
       "151187      151187   2015  53   2148     16      1    2.0    2.0    1.0   \n",
       "151188      151188   2015  53   2148     17      1    5.0    4.0    1.0   \n",
       "\n",
       "        V0202    ...     V4611   V4614  UPA   V4617  V4618  V4620  V4621  \\\n",
       "151182    2.0    ...     324.0  3100.0  190  530001    195    4.0  775.0   \n",
       "151183    NaN    ...       NaN     NaN  190  530001    195    NaN    NaN   \n",
       "151184    2.0    ...     325.0  2700.0  190  530001    195    4.0  675.0   \n",
       "151185    2.0    ...     325.0   500.0  190  530001    195    5.0  100.0   \n",
       "151186    2.0    ...     324.0  2388.0  190  530001    195    3.0  796.0   \n",
       "151187    2.0    ...     325.0  1500.0  190  530001    195    2.0  750.0   \n",
       "151188    2.0    ...     325.0  1296.0  190  530001    195    5.0  259.0   \n",
       "\n",
       "        V4622  V4624     V9992  \n",
       "151182    3.0    1.0  20161104  \n",
       "151183    NaN    NaN  20161104  \n",
       "151184    3.0    1.0  20161104  \n",
       "151185    1.0    1.0  20161104  \n",
       "151186    4.0    1.0  20161104  \n",
       "151187    3.0    1.0  20161104  \n",
       "151188    2.0    1.0  20161104  \n",
       "\n",
       "[7 rows x 81 columns]"
      ]
     },
     "execution_count": 34,
     "metadata": {},
     "output_type": "execute_result"
    }
   ],
   "source": [
    "dados.tail(7)"
   ]
  },
  {
   "cell_type": "markdown",
   "metadata": {
    "slideshow": {
     "slide_type": "slide"
    }
   },
   "source": [
    "### Tamanho do DataFrame"
   ]
  },
  {
   "cell_type": "code",
   "execution_count": 35,
   "metadata": {
    "slideshow": {
     "slide_type": "fragment"
    }
   },
   "outputs": [
    {
     "data": {
      "text/plain": [
       "(151189, 81)"
      ]
     },
     "execution_count": 35,
     "metadata": {},
     "output_type": "execute_result"
    }
   ],
   "source": [
    "dados.shape"
   ]
  },
  {
   "cell_type": "markdown",
   "metadata": {
    "slideshow": {
     "slide_type": "skip"
    }
   },
   "source": [
    "Todo DataFrame contém um array do numpy internamente. Este array é guardado no atributo values"
   ]
  },
  {
   "cell_type": "code",
   "execution_count": 36,
   "metadata": {
    "slideshow": {
     "slide_type": "skip"
    }
   },
   "outputs": [
    {
     "data": {
      "text/plain": [
       "numpy.ndarray"
      ]
     },
     "execution_count": 36,
     "metadata": {},
     "output_type": "execute_result"
    }
   ],
   "source": [
    "type(dados.values)"
   ]
  },
  {
   "cell_type": "markdown",
   "metadata": {
    "slideshow": {
     "slide_type": "slide"
    }
   },
   "source": [
    "## Tipos das colunas\n",
    "\n",
    "Cada coluna da tabela tem um tipo diferente"
   ]
  },
  {
   "cell_type": "code",
   "execution_count": 37,
   "metadata": {
    "slideshow": {
     "slide_type": "fragment"
    }
   },
   "outputs": [
    {
     "data": {
      "text/plain": [
       "Unnamed: 0      int64\n",
       "V0101           int64\n",
       "UF              int64\n",
       "V0102           int64\n",
       "V0103           int64\n",
       "V0104           int64\n",
       "V0105         float64\n",
       "V0106         float64\n",
       "V0201         float64\n",
       "V0202         float64\n",
       "V0203         float64\n",
       "V0204         float64\n",
       "V0205         float64\n",
       "V0206         float64\n",
       "V0207         float64\n",
       "V0208         float64\n",
       "V0209         float64\n",
       "V0210         float64\n",
       "V0211         float64\n",
       "V0212         float64\n",
       "V0213         float64\n",
       "V0214         float64\n",
       "V0215         float64\n",
       "V0216         float64\n",
       "V2016         float64\n",
       "V0217         float64\n",
       "V0218         float64\n",
       "V0219         float64\n",
       "V0220         float64\n",
       "V2020         float64\n",
       "               ...   \n",
       "V02324        float64\n",
       "V02325        float64\n",
       "V02326        float64\n",
       "V02327        float64\n",
       "V02424        float64\n",
       "V02425        float64\n",
       "V02426        float64\n",
       "V2032         float64\n",
       "V4105           int64\n",
       "V4107           int64\n",
       "V4600         float64\n",
       "V4601         float64\n",
       "V4602           int64\n",
       "V4604           int64\n",
       "V4605         float64\n",
       "V4606           int64\n",
       "V4607         float64\n",
       "V4608         float64\n",
       "V4609           int64\n",
       "V4610           int64\n",
       "V4611         float64\n",
       "V4614         float64\n",
       "UPA             int64\n",
       "V4617           int64\n",
       "V4618           int64\n",
       "V4620         float64\n",
       "V4621         float64\n",
       "V4622         float64\n",
       "V4624         float64\n",
       "V9992           int64\n",
       "Length: 81, dtype: object"
      ]
     },
     "execution_count": 37,
     "metadata": {},
     "output_type": "execute_result"
    }
   ],
   "source": [
    "dados.dtypes"
   ]
  },
  {
   "cell_type": "markdown",
   "metadata": {
    "slideshow": {
     "slide_type": "slide"
    }
   },
   "source": [
    "## Acesso a colunas"
   ]
  },
  {
   "cell_type": "markdown",
   "metadata": {
    "slideshow": {
     "slide_type": "fragment"
    }
   },
   "source": [
    "Colunas podem ser acessadas direto pelo nome, como atributos de objetos"
   ]
  },
  {
   "cell_type": "code",
   "execution_count": 46,
   "metadata": {
    "slideshow": {
     "slide_type": "fragment"
    }
   },
   "outputs": [],
   "source": [
    "#y = dados.iloc[0:151189,0:81]\n",
    "#y.to_excel(\"Gui1.xlsx\")\n",
    "\n",
    "\n",
    "x = dados[['V0220','V0231','V02322','V02323','V02324','V02325']]\n",
    "x.head()\n",
    "\n",
    "\n",
    "x.to_csv(\"dados_Escolhidos_2015.csv\")\n",
    "\n",
    "\n",
    "\n",
    "\n",
    "\n",
    "\n",
    "\n",
    "\n",
    "\n",
    "\n",
    "\n",
    "\n",
    "\n"
   ]
  },
  {
   "cell_type": "markdown",
   "metadata": {
    "slideshow": {
     "slide_type": "slide"
    }
   },
   "source": [
    "### Acesso a colunas - como membros de um dicionário\n",
    "\n",
    "Ou então com uma notação similar à de um dicionário:\n"
   ]
  },
  {
   "cell_type": "code",
   "execution_count": 45,
   "metadata": {
    "slideshow": {
     "slide_type": "fragment"
    }
   },
   "outputs": [],
   "source": [
    "y = dados1[['V0220','V0231','V02322','V02323','V02324','V02325']]\n",
    "y.head()\n",
    "\n",
    "y.to_csv(\"dados_Escolhidos_2014.csv\")"
   ]
  },
  {
   "cell_type": "markdown",
   "metadata": {
    "slideshow": {
     "slide_type": "slide"
    }
   },
   "source": [
    "## Slices de linhas\n",
    "\n",
    "Slices simples (sem vírgula) fatiam as linhas do dataset. O exemplo abaixo separa as linhas entre 2 e 4. Lembrando que o último valor informado nos colchetes é excludente."
   ]
  },
  {
   "cell_type": "code",
   "execution_count": 44,
   "metadata": {
    "slideshow": {
     "slide_type": "fragment"
    }
   },
   "outputs": [],
   "source": [
    "z = dados2[['V0220','V0231','V02322','V02323','V02324','V02325']]\n",
    "z.head()\n",
    "z.to_csv(\"dados_Escolhidos_2013.csv\")"
   ]
  },
  {
   "cell_type": "markdown",
   "metadata": {
    "slideshow": {
     "slide_type": "slide"
    }
   },
   "source": [
    "# Slices de colunas\n",
    "\n",
    "O atributo _iloc_ de um _DataFrame_ permite usar slices baseados em índices numéricos. Vale a mesma notação usada no numpy. Para saber mais veja [aqui](http://pandas.pydata.org/pandas-docs/stable/indexing.html)"
   ]
  },
  {
   "cell_type": "code",
   "execution_count": null,
   "metadata": {
    "collapsed": true,
    "slideshow": {
     "slide_type": "fragment"
    }
   },
   "outputs": [],
   "source": [
    "#Caso queira, pode colocar esse pedaço do dataframe definido com outro nome\n",
    "novatab = dados.iloc[2:5,3:8]"
   ]
  },
  {
   "cell_type": "code",
   "execution_count": null,
   "metadata": {
    "slideshow": {
     "slide_type": "fragment"
    }
   },
   "outputs": [],
   "source": [
    "novatab"
   ]
  },
  {
   "cell_type": "markdown",
   "metadata": {
    "slideshow": {
     "slide_type": "slide"
    }
   },
   "source": [
    "## Slices  com operador \"**:**\"\n",
    "\n",
    "Pode-se usar dois pontos *:*  em uma das dimensões para selecionar todas as linhas e/ou colunas."
   ]
  },
  {
   "cell_type": "code",
   "execution_count": null,
   "metadata": {
    "slideshow": {
     "slide_type": "fragment"
    }
   },
   "outputs": [],
   "source": [
    "dados.iloc[:,:]"
   ]
  },
  {
   "cell_type": "markdown",
   "metadata": {
    "slideshow": {
     "slide_type": "slide"
    }
   },
   "source": [
    "## Slices de células descontínuas\n",
    "\n",
    "Ou então utilizar uma lista para especificar apenas um conjunto limitado de células, sejam linhas e/ou colunas."
   ]
  },
  {
   "cell_type": "code",
   "execution_count": null,
   "metadata": {
    "slideshow": {
     "slide_type": "fragment"
    }
   },
   "outputs": [],
   "source": [
    "dados.iloc[[5,9], [2, 4, 7]]"
   ]
  },
  {
   "cell_type": "markdown",
   "metadata": {
    "slideshow": {
     "slide_type": "slide"
    }
   },
   "source": [
    "## Filtragem de células dada uma condição\n",
    "\n",
    "Pode-se especificar uma condição para selecionar apenas as linhas em que aquela condição é válida!\n",
    "\n",
    "Abaixo, reduz o *Dataframe* selecionando apenas linhas quando a informação da coluna IDADE >40!\n",
    "Note que considera todas as colunas do dataset."
   ]
  },
  {
   "cell_type": "code",
   "execution_count": null,
   "metadata": {},
   "outputs": [],
   "source": [
    "dados[dados.IDADE>40]"
   ]
  },
  {
   "cell_type": "markdown",
   "metadata": {
    "slideshow": {
     "slide_type": "slide"
    }
   },
   "source": [
    "## Filtragem de células dada uma condição\n",
    "\n",
    "Abaixo, faz uso apenas das variáveis das colunas 1 a 4 quando a informação IDADE > 40!\n",
    "Note que nesse filtro, seleciona apenas algumas colunas do dataset para as linhas com IDADE > 40."
   ]
  },
  {
   "cell_type": "code",
   "execution_count": null,
   "metadata": {
    "slideshow": {
     "slide_type": "fragment"
    }
   },
   "outputs": [],
   "source": [
    "dados[dados.IDADE>40].iloc[:,1:4].head(8)"
   ]
  },
  {
   "cell_type": "markdown",
   "metadata": {
    "slideshow": {
     "slide_type": "slide"
    }
   },
   "source": [
    "## Operadores *booleanos* nas condições\n",
    "\n",
    "Pode-se combinar condições.\n",
    "\n",
    "Note que são operadores *diferentes* do que você usaria no *if*. Estas condições usam os operadores *bit a bit*"
   ]
  },
  {
   "cell_type": "code",
   "execution_count": null,
   "metadata": {
    "scrolled": true,
    "slideshow": {
     "slide_type": "fragment"
    }
   },
   "outputs": [],
   "source": [
    "y = dados[(dados.IDADE >= 25) & (dados.IDADE < 35)]\n",
    "y.to_excel(\"teste.xlsx\")\n",
    "print(y)"
   ]
  },
  {
   "cell_type": "markdown",
   "metadata": {
    "slideshow": {
     "slide_type": "slide"
    }
   },
   "source": [
    "## Seleção de colunas\n",
    "\n",
    "Em cima da condição especificada, podemos ainda selecionar apenas uma coluna"
   ]
  },
  {
   "cell_type": "code",
   "execution_count": null,
   "metadata": {
    "scrolled": true,
    "slideshow": {
     "slide_type": "fragment"
    }
   },
   "outputs": [],
   "source": [
    "dados[dados.DEFAULT==1].IDADE"
   ]
  },
  {
   "cell_type": "markdown",
   "metadata": {
    "slideshow": {
     "slide_type": "slide"
    }
   },
   "source": [
    "## Listando as colunas\n",
    "\n",
    "List devolve uma lista das colunas do DataFrame"
   ]
  },
  {
   "cell_type": "code",
   "execution_count": null,
   "metadata": {
    "slideshow": {
     "slide_type": "fragment"
    }
   },
   "outputs": [],
   "source": [
    "list(dados)"
   ]
  },
  {
   "cell_type": "markdown",
   "metadata": {},
   "source": [
    "### Listando as colunas"
   ]
  },
  {
   "cell_type": "code",
   "execution_count": null,
   "metadata": {},
   "outputs": [],
   "source": [
    "dados.columns"
   ]
  },
  {
   "cell_type": "markdown",
   "metadata": {
    "slideshow": {
     "slide_type": "slide"
    }
   },
   "source": [
    "## Ordenando valores "
   ]
  },
  {
   "cell_type": "markdown",
   "metadata": {
    "slideshow": {
     "slide_type": "fragment"
    }
   },
   "source": [
    "O método `sort_values()` ordena pela coluna desejada"
   ]
  },
  {
   "cell_type": "code",
   "execution_count": null,
   "metadata": {
    "slideshow": {
     "slide_type": "fragment"
    }
   },
   "outputs": [],
   "source": [
    "dados.sort_values(by=\"LETRA\")"
   ]
  },
  {
   "cell_type": "markdown",
   "metadata": {
    "slideshow": {
     "slide_type": "slide"
    }
   },
   "source": [
    "# VARIÁVEIS QUALITATIVAS\n",
    "\n",
    "\n",
    "## Tabelas e Gráficos"
   ]
  },
  {
   "cell_type": "markdown",
   "metadata": {
    "slideshow": {
     "slide_type": "slide"
    }
   },
   "source": [
    "## Dados categóricos\n",
    "\n",
    "\n",
    "Observe o tipo dos dados da coluna EDUCACAO!!\n",
    "\n",
    "Apesar de mostra valor inteiros, é uma variável qualitativa!"
   ]
  },
  {
   "cell_type": "code",
   "execution_count": null,
   "metadata": {
    "slideshow": {
     "slide_type": "fragment"
    }
   },
   "outputs": [],
   "source": [
    "dados.EDUCACAO"
   ]
  },
  {
   "cell_type": "markdown",
   "metadata": {
    "slideshow": {
     "slide_type": "slide"
    }
   },
   "source": [
    "## Criando as categorias\n",
    "\n",
    "Vamos indicar para o Pandas que a coluna EDUCACAO é do tipo categórica (variável qualitativa)!"
   ]
  },
  {
   "cell_type": "code",
   "execution_count": null,
   "metadata": {
    "collapsed": true,
    "slideshow": {
     "slide_type": "fragment"
    }
   },
   "outputs": [],
   "source": [
    "dados.LETRA = dados.LETRA.astype('category')"
   ]
  },
  {
   "cell_type": "code",
   "execution_count": null,
   "metadata": {
    "slideshow": {
     "slide_type": "fragment"
    }
   },
   "outputs": [],
   "source": [
    "dados.LETRA"
   ]
  },
  {
   "cell_type": "markdown",
   "metadata": {
    "slideshow": {
     "slide_type": "slide"
    }
   },
   "source": [
    "## Mudando rótulos categóricos\n",
    "\n",
    "Vamos substituir os números das categorias por rótulos!"
   ]
  },
  {
   "cell_type": "code",
   "execution_count": null,
   "metadata": {
    "slideshow": {
     "slide_type": "fragment"
    }
   },
   "outputs": [],
   "source": [
    "dados.LETRA.cat.categories = ('Inativo 30 dias', 'Liberado para Vendas', 'Duplicata Vencida', 'Cheques Devolvidos', 'Restricao Serasa' , 'Bloqueado Financeiro','Titulos Protestados','Cof dept cadastro','Cof dept comercial','Cof diretoria','Bloqueado','Cof gerencia admin','Paga com Atraso','Sint nao habilitado','somente pgto antecipado','bx duplos como perdas','Conf diretoria','Conf gerencia admin','conf dpto comericial','Conf representante','Inativo 180 dias','Empresa encerrada','Falencia','Somente a vista','Inativo 90 Dias','Fora Estado','Sem inscricao, rever preco')\n",
    "\n",
    "\n",
    "dados\n",
    "\n",
    "\n"
   ]
  },
  {
   "cell_type": "code",
   "execution_count": null,
   "metadata": {
    "scrolled": true,
    "slideshow": {
     "slide_type": "slide"
    }
   },
   "outputs": [],
   "source": [
    "dados.head(10)"
   ]
  },
  {
   "cell_type": "markdown",
   "metadata": {
    "slideshow": {
     "slide_type": "slide"
    }
   },
   "source": [
    "### Fazendo o mesmo para a coluna DEFAULT"
   ]
  },
  {
   "cell_type": "code",
   "execution_count": null,
   "metadata": {
    "collapsed": true,
    "slideshow": {
     "slide_type": "fragment"
    }
   },
   "outputs": [],
   "source": [
    "dados.DEFAULT = dados.DEFAULT.astype('category')\n"
   ]
  },
  {
   "cell_type": "code",
   "execution_count": null,
   "metadata": {
    "slideshow": {
     "slide_type": "fragment"
    }
   },
   "outputs": [],
   "source": [
    "dados.DEFAULT.cat.categories"
   ]
  },
  {
   "cell_type": "markdown",
   "metadata": {
    "slideshow": {
     "slide_type": "fragment"
    }
   },
   "source": [
    "Note que a palavra `DEFAULT` neste caso indica *default* financeiro. Ou seja: inadimplência. "
   ]
  },
  {
   "cell_type": "code",
   "execution_count": null,
   "metadata": {
    "collapsed": true,
    "slideshow": {
     "slide_type": "fragment"
    }
   },
   "outputs": [],
   "source": [
    "dados.DEFAULT.cat.categories = ('Adimplente', 'Inadimplente')"
   ]
  },
  {
   "cell_type": "code",
   "execution_count": null,
   "metadata": {
    "scrolled": false,
    "slideshow": {
     "slide_type": "slide"
    }
   },
   "outputs": [],
   "source": [
    "dados.head()"
   ]
  },
  {
   "cell_type": "markdown",
   "metadata": {
    "slideshow": {
     "slide_type": "slide"
    }
   },
   "source": [
    "## Contando valores de uma variável *Qualitativa*"
   ]
  },
  {
   "cell_type": "code",
   "execution_count": null,
   "metadata": {
    "slideshow": {
     "slide_type": "fragment"
    }
   },
   "outputs": [],
   "source": [
    "dados.EDUCACAO.value_counts()\n"
   ]
  },
  {
   "cell_type": "markdown",
   "metadata": {
    "slideshow": {
     "slide_type": "slide"
    }
   },
   "source": [
    "## Normalizando a contagem"
   ]
  },
  {
   "cell_type": "code",
   "execution_count": null,
   "metadata": {
    "slideshow": {
     "slide_type": "fragment"
    }
   },
   "outputs": [],
   "source": [
    "dados.EDUCACAO.value_counts(True)\n"
   ]
  },
  {
   "cell_type": "markdown",
   "metadata": {
    "slideshow": {
     "slide_type": "slide"
    }
   },
   "source": [
    "### Obtendo percentuais\n",
    "\n",
    "Basta multiplicar as frequências relativas por 100"
   ]
  },
  {
   "cell_type": "code",
   "execution_count": null,
   "metadata": {
    "slideshow": {
     "slide_type": "fragment"
    }
   },
   "outputs": [],
   "source": [
    "dados.EDUCACAO.value_counts(True) * 100\n"
   ]
  },
  {
   "cell_type": "code",
   "execution_count": null,
   "metadata": {
    "slideshow": {
     "slide_type": "skip"
    }
   },
   "outputs": [],
   "source": [
    "dados.DEFAULT.value_counts()\n"
   ]
  },
  {
   "cell_type": "code",
   "execution_count": null,
   "metadata": {
    "slideshow": {
     "slide_type": "skip"
    }
   },
   "outputs": [],
   "source": [
    "dados.DEFAULT.value_counts(True)\n"
   ]
  },
  {
   "cell_type": "code",
   "execution_count": null,
   "metadata": {
    "slideshow": {
     "slide_type": "skip"
    }
   },
   "outputs": [],
   "source": [
    "dados.DEFAULT.value_counts(True) * 100\n"
   ]
  },
  {
   "cell_type": "markdown",
   "metadata": {
    "slideshow": {
     "slide_type": "slide"
    }
   },
   "source": [
    "## Cruzando duas variáveis *Qualitativas*\n",
    "\n",
    "Tabela cruzada *crosstab* com frequências absolutas"
   ]
  },
  {
   "cell_type": "code",
   "execution_count": null,
   "metadata": {
    "collapsed": true,
    "slideshow": {
     "slide_type": "fragment"
    }
   },
   "outputs": [],
   "source": [
    "ct = pd.crosstab(dados.EDUCACAO, dados.DEFAULT)\n"
   ]
  },
  {
   "cell_type": "code",
   "execution_count": null,
   "metadata": {
    "scrolled": true,
    "slideshow": {
     "slide_type": "fragment"
    }
   },
   "outputs": [],
   "source": [
    "ct"
   ]
  },
  {
   "cell_type": "markdown",
   "metadata": {
    "slideshow": {
     "slide_type": "slide"
    }
   },
   "source": [
    "### Normalizando o crosstab\n",
    "\n",
    "Para obter uma versão normalizada"
   ]
  },
  {
   "cell_type": "code",
   "execution_count": null,
   "metadata": {
    "slideshow": {
     "slide_type": "fragment"
    }
   },
   "outputs": [],
   "source": [
    "pd.crosstab(dados.EDUCACAO, dados.DEFAULT, normalize=True)\n"
   ]
  },
  {
   "cell_type": "markdown",
   "metadata": {
    "slideshow": {
     "slide_type": "slide"
    }
   },
   "source": [
    "### Somando as frequênias das categorias"
   ]
  },
  {
   "cell_type": "markdown",
   "metadata": {
    "slideshow": {
     "slide_type": "fragment"
    }
   },
   "source": [
    "Somando por coluna:"
   ]
  },
  {
   "cell_type": "code",
   "execution_count": null,
   "metadata": {
    "slideshow": {
     "slide_type": "fragment"
    }
   },
   "outputs": [],
   "source": [
    "ct.sum()"
   ]
  },
  {
   "cell_type": "markdown",
   "metadata": {
    "slideshow": {
     "slide_type": "fragment"
    }
   },
   "source": [
    "Somando todas as frequências => total geral:"
   ]
  },
  {
   "cell_type": "code",
   "execution_count": null,
   "metadata": {
    "slideshow": {
     "slide_type": "fragment"
    }
   },
   "outputs": [],
   "source": [
    "ct.sum().sum()"
   ]
  },
  {
   "cell_type": "code",
   "execution_count": null,
   "metadata": {
    "collapsed": true,
    "slideshow": {
     "slide_type": "slide"
    }
   },
   "outputs": [],
   "source": [
    "soma_tabela = ct.sum().sum()"
   ]
  },
  {
   "cell_type": "code",
   "execution_count": null,
   "metadata": {
    "slideshow": {
     "slide_type": "fragment"
    }
   },
   "outputs": [],
   "source": [
    "ct/soma_tabela"
   ]
  },
  {
   "cell_type": "code",
   "execution_count": null,
   "metadata": {
    "slideshow": {
     "slide_type": "fragment"
    }
   },
   "outputs": [],
   "source": [
    "ct*100/soma_tabela"
   ]
  },
  {
   "cell_type": "markdown",
   "metadata": {
    "slideshow": {
     "slide_type": "slide"
    }
   },
   "source": [
    "## Gráficos\n",
    "O pandas usa os recursos de gráficos do _matplotlib_\n",
    "\n",
    "As linhas abaixo fazem plots do _matplotlib_ ou pandas aparecerem corretamente no _IPython Notebook_."
   ]
  },
  {
   "cell_type": "code",
   "execution_count": null,
   "metadata": {
    "collapsed": true,
    "slideshow": {
     "slide_type": "fragment"
    }
   },
   "outputs": [],
   "source": [
    "%matplotlib inline\n",
    "import matplotlib.pyplot as plt\n",
    "import matplotlib\n",
    "matplotlib.style.use('ggplot')"
   ]
  },
  {
   "cell_type": "markdown",
   "metadata": {
    "slideshow": {
     "slide_type": "slide"
    }
   },
   "source": [
    "### Gráfico de barras"
   ]
  },
  {
   "cell_type": "markdown",
   "metadata": {
    "slideshow": {
     "slide_type": "fragment"
    }
   },
   "source": [
    "A função que faz gráfico de barras é  a  [_DataFrame.plot()_](http://pandas.pydata.org/pandas-docs/stable/generated/pandas.DataFrame.plot.html)"
   ]
  },
  {
   "cell_type": "code",
   "execution_count": null,
   "metadata": {
    "slideshow": {
     "slide_type": "fragment"
    }
   },
   "outputs": [],
   "source": [
    "dfc = dados.DEFAULT.value_counts()\n",
    "dfc.plot(kind='bar', color=('blue', 'red'), legend=False)"
   ]
  },
  {
   "cell_type": "markdown",
   "metadata": {
    "slideshow": {
     "slide_type": "slide"
    }
   },
   "source": [
    "## Reordenando as categorias "
   ]
  },
  {
   "cell_type": "markdown",
   "metadata": {
    "slideshow": {
     "slide_type": "fragment"
    }
   },
   "source": [
    "O método `reindex` serve para reordenar as linhas de uma tabela.  \n",
    "\n",
    "Digamos que quiséssemos que os Inadimplentes viessem antes dos Adimplentes."
   ]
  },
  {
   "cell_type": "code",
   "execution_count": null,
   "metadata": {
    "slideshow": {
     "slide_type": "fragment"
    }
   },
   "outputs": [],
   "source": [
    "dfc2 = dados.DEFAULT.value_counts().reindex([\"Inadimplente\",  \"Adimplente\"])\n",
    "\n",
    "dfc2.plot(kind='bar', color=('red', 'blue'), legend=False)"
   ]
  },
  {
   "cell_type": "markdown",
   "metadata": {
    "slideshow": {
     "slide_type": "slide"
    }
   },
   "source": [
    "### Gráfico de pizza\n",
    "\n",
    "Plot do percentual de adimplentes e inadimplentes."
   ]
  },
  {
   "cell_type": "code",
   "execution_count": null,
   "metadata": {
    "slideshow": {
     "slide_type": "fragment"
    }
   },
   "outputs": [],
   "source": [
    "dfc2.plot(kind='pie', colors=('blue', 'red'), autopct=\"%0.2f\",legend=False)\n"
   ]
  },
  {
   "cell_type": "markdown",
   "metadata": {
    "slideshow": {
     "slide_type": "slide"
    }
   },
   "source": [
    "## Gráfico de barras"
   ]
  },
  {
   "cell_type": "markdown",
   "metadata": {
    "slideshow": {
     "slide_type": "fragment"
    }
   },
   "source": [
    "Gráfico de barras comparando os diversos níveis de educação"
   ]
  },
  {
   "cell_type": "code",
   "execution_count": null,
   "metadata": {
    "collapsed": true,
    "slideshow": {
     "slide_type": "fragment"
    }
   },
   "outputs": [],
   "source": [
    "evc = dados.EDUCACAO.value_counts().reindex(['Analfabeto','1o. Grau', '2o. Grau', 'Graduacao', 'Pos-Graduacao'])"
   ]
  },
  {
   "cell_type": "code",
   "execution_count": null,
   "metadata": {
    "slideshow": {
     "slide_type": "fragment"
    }
   },
   "outputs": [],
   "source": [
    "evc.plot(kind='bar', color=('yellow', 'salmon', 'purple', 'red', 'green'),  legend=False)"
   ]
  },
  {
   "cell_type": "markdown",
   "metadata": {
    "slideshow": {
     "slide_type": "slide"
    }
   },
   "source": [
    "## Gráfico de pizza"
   ]
  },
  {
   "cell_type": "code",
   "execution_count": null,
   "metadata": {
    "slideshow": {
     "slide_type": "fragment"
    }
   },
   "outputs": [],
   "source": [
    "evc.plot(kind='pie', colors=('yellow', 'salmon', 'blue', 'red', 'green'), autopct=\"%.2f\", legend=False)\n"
   ]
  },
  {
   "cell_type": "markdown",
   "metadata": {
    "slideshow": {
     "slide_type": "slide"
    }
   },
   "source": [
    "## Gráficos de barra para tabela cruzada (crosstab)\n",
    "\n",
    "Considerando frequências absolutas"
   ]
  },
  {
   "cell_type": "code",
   "execution_count": null,
   "metadata": {
    "slideshow": {
     "slide_type": "fragment"
    }
   },
   "outputs": [],
   "source": [
    "ct1 = pd.crosstab(dados.EDUCACAO, dados.DEFAULT)\n",
    "ct1.plot(kind='bar', color=('yellow', 'salmon'))\n",
    "plt.ylabel('Frequência Absoluta')\n"
   ]
  },
  {
   "cell_type": "code",
   "execution_count": null,
   "metadata": {
    "slideshow": {
     "slide_type": "slide"
    }
   },
   "outputs": [],
   "source": [
    "ct1 = pd.crosstab(dados.DEFAULT, dados.EDUCACAO)\n",
    "ct1.plot(kind='bar', color=('red','blue','green','yellow', 'salmon'))\n",
    "plt.ylabel('Frequência Absoluta')"
   ]
  },
  {
   "cell_type": "markdown",
   "metadata": {
    "slideshow": {
     "slide_type": "slide"
    }
   },
   "source": [
    "## Gráficos de barra para tabela cruzada (crosstab)\n",
    "\n",
    "Considerando frequências relativas"
   ]
  },
  {
   "cell_type": "code",
   "execution_count": null,
   "metadata": {
    "slideshow": {
     "slide_type": "fragment"
    }
   },
   "outputs": [],
   "source": [
    "ct2 = pd.crosstab(dados.EDUCACAO, dados.DEFAULT)\n",
    "ct2 = (ct2/ct2.sum().sum()*100).round(decimals=0)\n",
    "ct2.plot(kind='bar', color=('yellow', 'salmon'))\n",
    "plt.ylabel('Frequência Relativa (em %)')"
   ]
  },
  {
   "cell_type": "code",
   "execution_count": null,
   "metadata": {
    "slideshow": {
     "slide_type": "slide"
    }
   },
   "outputs": [],
   "source": [
    "ct2 = pd.crosstab(dados.DEFAULT, dados.EDUCACAO)\n",
    "ct2 = (ct2/ct2.sum().sum()*100).round(decimals=0)\n",
    "ct2.plot(kind='bar', color=('red','blue','green','yellow', 'salmon'))\n",
    "plt.ylabel('Frequência Relativa (em %)')"
   ]
  },
  {
   "cell_type": "markdown",
   "metadata": {
    "slideshow": {
     "slide_type": "slide"
    }
   },
   "source": [
    "## Gráfico de pizza considerando duas variáveis qualitativas\n",
    "\n",
    "Considerando frequências relativas de Educação em cada nível de Default!\n"
   ]
  },
  {
   "cell_type": "code",
   "execution_count": null,
   "metadata": {
    "slideshow": {
     "slide_type": "fragment"
    }
   },
   "outputs": [],
   "source": [
    "adim = dados.EDUCACAO[dados.DEFAULT == 'Adimplente'].value_counts()\n",
    "adim.plot(kind='pie', autopct=\"%.2f\",legend=False)\n",
    "plt.title('ADIMPLENTES')"
   ]
  },
  {
   "cell_type": "code",
   "execution_count": null,
   "metadata": {
    "slideshow": {
     "slide_type": "slide"
    }
   },
   "outputs": [],
   "source": [
    "inadim = dados.EDUCACAO[dados.DEFAULT == 'Inadimplente'].value_counts()\n",
    "inadim.plot(kind='pie', autopct=\"%.2f\",legend=False)\n",
    "plt.title('INADIMPLENTES')"
   ]
  },
  {
   "cell_type": "markdown",
   "metadata": {
    "slideshow": {
     "slide_type": "slide"
    }
   },
   "source": [
    "## Gráficos *stacked*"
   ]
  },
  {
   "cell_type": "markdown",
   "metadata": {
    "slideshow": {
     "slide_type": "fragment"
    }
   },
   "source": [
    "Rodar função para conseguir fazer gráfico do tipo \"stacked\" corretamente que esteja \"delimitado\" por total de linhas ou de colunas!"
   ]
  },
  {
   "cell_type": "code",
   "execution_count": null,
   "metadata": {
    "collapsed": true,
    "slideshow": {
     "slide_type": "fragment"
    }
   },
   "outputs": [],
   "source": [
    "#Função que divide cada valor da tabela cruzada pelo total da última linha (quando axis=0) ou da última coluna (quando axis=1)\n",
    "#Retorna tabela cruzada com valores sem casa decimais\n",
    "#https://www.analyticsvidhya.com/blog/2016/01/12-pandas-techniques-python-data-manipulation/\n",
    "def percConvert(tab):\n",
    "  return (tab/float(tab[-1])*100).round(decimals=0)"
   ]
  },
  {
   "cell_type": "code",
   "execution_count": null,
   "metadata": {
    "slideshow": {
     "slide_type": "slide"
    }
   },
   "outputs": [],
   "source": [
    "print('Tabela Cruzada por total de COLUNAS (em %):')\n",
    "#Use axis igual a 0\n",
    "ct3=pd.crosstab(dados.EDUCACAO,dados.DEFAULT,margins=True,rownames=['Educação'], colnames=['Default']).apply(percConvert, axis=0)\n",
    "ct3"
   ]
  },
  {
   "cell_type": "markdown",
   "metadata": {
    "slideshow": {
     "slide_type": "slide"
    }
   },
   "source": [
    "## Gráficos *stacked* por total de coluna"
   ]
  },
  {
   "cell_type": "code",
   "execution_count": null,
   "metadata": {
    "slideshow": {
     "slide_type": "fragment"
    }
   },
   "outputs": [],
   "source": [
    "ct3 = ct3.iloc[0:5,:]\n",
    "plot = ct3.T.plot(kind='bar', stacked=True,title='Educação por Default')\n",
    "plot.set_ylim([0, 100])\n",
    "plt.ylabel('Freq.Relativa (em%)')\n",
    "\n",
    "#Para legenda ficar fora do gráfico\n",
    "ax = plt.subplot(111)\n",
    "box = ax.get_position()\n",
    "ax.set_position([box.x0, box.y0, box.width * 0.8, box.height])\n",
    "ax.legend(loc='center left', bbox_to_anchor=(1, 0.5))"
   ]
  },
  {
   "cell_type": "code",
   "execution_count": null,
   "metadata": {
    "slideshow": {
     "slide_type": "slide"
    }
   },
   "outputs": [],
   "source": [
    "print('Tabela Cruzada por total de LINHAS (em %):')\n",
    "#Use axis igual a 1\n",
    "ct4=pd.crosstab(dados.EDUCACAO,dados.DEFAULT,margins=True,rownames=['Educação'], colnames=['Default']).apply(percConvert, axis=1)\n",
    "ct4"
   ]
  },
  {
   "cell_type": "markdown",
   "metadata": {
    "slideshow": {
     "slide_type": "slide"
    }
   },
   "source": [
    "## Gráficos *stacked* por total de linha"
   ]
  },
  {
   "cell_type": "code",
   "execution_count": null,
   "metadata": {
    "slideshow": {
     "slide_type": "fragment"
    }
   },
   "outputs": [],
   "source": [
    "ct4 = ct4.iloc[:,0:2]\n",
    "plot = ct4.plot(kind='bar', stacked=True,title='Default por Educação')\n",
    "plot.set_ylim([0, 100])\n",
    "plt.ylabel('Freq.Relativa (em%)')\n",
    "\n",
    "#Para legenda ficar fora do gráfico\n",
    "ax = plt.subplot(111)\n",
    "box = ax.get_position()\n",
    "ax.set_position([box.x0, box.y0, box.width * 0.8, box.height])\n",
    "ax.legend(loc='center left', bbox_to_anchor=(1, 0.5))"
   ]
  },
  {
   "cell_type": "markdown",
   "metadata": {
    "slideshow": {
     "slide_type": "slide"
    }
   },
   "source": [
    "## Gráficos *stacked* construídos de forma inadequada para interpretar\n",
    "\n",
    "# CUIDADO!!\n",
    "\n",
    "Não considere frequências absolutas e nem tão pouco as frequências relativas do total geral. Você certamente terá erros na interpretação e conclusão do comportamento dos dados."
   ]
  },
  {
   "cell_type": "code",
   "execution_count": null,
   "metadata": {
    "slideshow": {
     "slide_type": "fragment"
    }
   },
   "outputs": [],
   "source": [
    "ct5 = pd.crosstab(dados.EDUCACAO,dados.DEFAULT,rownames=['Educação'], colnames=['Default'])\n",
    "ct5.plot.bar(color=('yellow', 'salmon', 'blue', 'red', 'green'), stacked=True)"
   ]
  },
  {
   "cell_type": "markdown",
   "metadata": {
    "slideshow": {
     "slide_type": "slide"
    }
   },
   "source": [
    "## Gráficos *stacked* construídos de forma inadequada para interpretar\n",
    "\n",
    "# CUIDADO!!\n",
    "\n",
    "Não considere frequências absolutas e nem tão pouco as frequências relativas do total geral. Você certamente terá erros na interpretação e conclusão do comportamento dos dados."
   ]
  },
  {
   "cell_type": "code",
   "execution_count": null,
   "metadata": {
    "slideshow": {
     "slide_type": "fragment"
    }
   },
   "outputs": [],
   "source": [
    "ct6 = pd.crosstab(dados.DEFAULT,dados.EDUCACAO,rownames=['Default'], colnames=['Educação'])\n",
    "ct6.plot(kind='bar', color=('yellow', 'salmon', 'blue', 'red', 'green'), legend=False, stacked=True)"
   ]
  },
  {
   "cell_type": "markdown",
   "metadata": {
    "slideshow": {
     "slide_type": "slide"
    }
   },
   "source": [
    "# VARIÁVEIS QUANTITATIVAS\n",
    "\n",
    "\n",
    "## Tabelas e Gráficos"
   ]
  },
  {
   "cell_type": "markdown",
   "metadata": {
    "slideshow": {
     "slide_type": "slide"
    }
   },
   "source": [
    "## Categorizando uma variável quantitativa\n",
    "\n",
    "Por exemplo a variável renda é uma variável quantitativa (contínua, melhor dizendo). \n",
    "\n",
    "Graficamente, a ferramenta ideal para estudá-la é por meio de um histograma!\n",
    "\n",
    "Mas para construir uma tabela com as frequências de ocorrências, devemos criar faixas (*bins*) para simplificar a análise."
   ]
  },
  {
   "cell_type": "code",
   "execution_count": null,
   "metadata": {
    "collapsed": true,
    "slideshow": {
     "slide_type": "fragment"
    }
   },
   "outputs": [],
   "source": [
    "RENDA_cat = pd.cut(dados.RENDA, bins=10)"
   ]
  },
  {
   "cell_type": "markdown",
   "metadata": {
    "collapsed": true,
    "slideshow": {
     "slide_type": "slide"
    }
   },
   "source": [
    "Analisando resultado da tabela com as frequências absolutas!\n",
    "\n",
    "Com as categorias ordenadas por ordem decrescente da frequência absoluta!"
   ]
  },
  {
   "cell_type": "markdown",
   "metadata": {
    "slideshow": {
     "slide_type": "slide"
    }
   },
   "source": [
    "Criando faixas e visualizando tabela com frequências relativas.\n",
    "\n",
    "Entretanto, antes verifique os valores mínimo e máximo para que todos os valores sejam considerados nas categorias que serão criadas."
   ]
  },
  {
   "cell_type": "code",
   "execution_count": null,
   "metadata": {
    "slideshow": {
     "slide_type": "fragment"
    }
   },
   "outputs": [],
   "source": [
    "dados.RENDA.describe()"
   ]
  },
  {
   "cell_type": "markdown",
   "metadata": {
    "slideshow": {
     "slide_type": "slide"
    }
   },
   "source": [
    "Aqui os valores de quebra das faixas ficam a \"gosto do freguês\" desde que haja bom senso entre a quantidade de faixas com o tamanho amostral."
   ]
  },
  {
   "cell_type": "markdown",
   "metadata": {
    "slideshow": {
     "slide_type": "slide"
    }
   },
   "source": [
    "Analisando resultado da tabela com as frequências absolutas, entretanto, com as categorias ordenadas por ordem crescente das categorias! Isso é obtido utilizando `sort=False` dentro do comando `value_counts()`!!"
   ]
  },
  {
   "cell_type": "code",
   "execution_count": null,
   "metadata": {
    "slideshow": {
     "slide_type": "fragment"
    }
   },
   "outputs": [],
   "source": [
    "faixa = range(10,500,50)\n",
    "RENDA_cat = pd.cut(dados.RENDA, bins=faixa)\n",
    "RENDA_cat.value_counts(sort=False, normalize=True)*100"
   ]
  },
  {
   "cell_type": "markdown",
   "metadata": {
    "slideshow": {
     "slide_type": "slide"
    }
   },
   "source": [
    "## Gráfico de colunas com as frequências absolutas"
   ]
  },
  {
   "cell_type": "code",
   "execution_count": null,
   "metadata": {},
   "outputs": [],
   "source": [
    "plot.has_data"
   ]
  },
  {
   "cell_type": "code",
   "execution_count": null,
   "metadata": {
    "slideshow": {
     "slide_type": "fragment"
    }
   },
   "outputs": [],
   "source": [
    "plot = dados.RENDA.plot.hist(bins=faixa,title='GRAFICO DE COLUNAS', figsize=(6, 6), alpha=0.9)\n",
    "plt.ylabel('Frequência absoluta')\n",
    "plt.xlabel('renda (em reais)')"
   ]
  },
  {
   "cell_type": "markdown",
   "metadata": {
    "slideshow": {
     "slide_type": "slide"
    }
   },
   "source": [
    "## Gráfico de colunas com as frequências relativas"
   ]
  },
  {
   "cell_type": "code",
   "execution_count": null,
   "metadata": {
    "slideshow": {
     "slide_type": "fragment"
    }
   },
   "outputs": [],
   "source": [
    "from numpy import zeros_like\n",
    "plot = dados.RENDA.plot.hist(bins=faixa,title='GRAFICO DE COLUNAS', weights=zeros_like(dados.RENDA)+1./dados.RENDA.size*100, figsize=(6, 6), alpha=0.7)\n",
    "plt.ylabel('Frequência relativa (em %)')\n",
    "plt.xlabel('renda (em reais)')"
   ]
  },
  {
   "cell_type": "markdown",
   "metadata": {
    "slideshow": {
     "slide_type": "slide"
    }
   },
   "source": [
    "## Histograma"
   ]
  },
  {
   "cell_type": "code",
   "execution_count": null,
   "metadata": {
    "slideshow": {
     "slide_type": "fragment"
    }
   },
   "outputs": [],
   "source": [
    "plot = dados.RENDA.plot.hist(bins=faixa,title='HISTOGRAMA', normed=1, figsize=(6, 6), alpha=0.5)\n",
    "plt.ylabel('Densidade')\n",
    "plt.xlabel('renda (em reais)')"
   ]
  },
  {
   "cell_type": "markdown",
   "metadata": {
    "slideshow": {
     "slide_type": "slide"
    }
   },
   "source": [
    "## Organizando os gráficos em forma de *array*"
   ]
  },
  {
   "cell_type": "markdown",
   "metadata": {
    "slideshow": {
     "slide_type": "fragment"
    }
   },
   "source": [
    "Aqui, tem os comandos de como construir um gráfico ao lado do outro em forma de *array*. Excelente recurso para organizar gráficos dentro do notebook e não deixá-lo tão extenso!"
   ]
  },
  {
   "cell_type": "code",
   "execution_count": null,
   "metadata": {
    "slideshow": {
     "slide_type": "slide"
    }
   },
   "outputs": [],
   "source": [
    "f, axarr = plt.subplots(3,figsize=(5,10))\n",
    "axarr[0].hist(dados.RENDA, bins=15, alpha=0.9)\n",
    "axarr[0].set_title('Gráfico de Colunas')\n",
    "axarr[0].set_xlabel('Renda')\n",
    "axarr[0].set_ylabel('Frequência Absoluta')\n",
    "\n",
    "axarr[1].hist(dados.RENDA, bins=15, weights=zeros_like(dados.RENDA)+1./dados.RENDA.size*100, alpha=0.7)\n",
    "axarr[1].set_title('Gráfico de Colunas')\n",
    "axarr[1].set_xlabel('Renda')\n",
    "axarr[1].set_ylabel('Frequência Relativa (em%)')\n",
    "\n",
    "axarr[2].hist(dados.RENDA, bins=15, normed=1, alpha=0.5)\n",
    "axarr[2].set_title('Histograma')\n",
    "axarr[2].set_xlabel('Renda')\n",
    "axarr[2].set_ylabel('Densidade')\n",
    "\n",
    "plt.tight_layout(1)"
   ]
  },
  {
   "cell_type": "markdown",
   "metadata": {
    "slideshow": {
     "slide_type": "slide"
    }
   },
   "source": [
    "## Organizando os gráficos em forma de *subplot*"
   ]
  },
  {
   "cell_type": "markdown",
   "metadata": {
    "slideshow": {
     "slide_type": "fragment"
    }
   },
   "source": [
    "Na linha de comando `plot.subplot(311)`, por exemplo, os valores dentro do parênteses `(311)` indicam, respectivamente: quantidade de linhas, quantidade de colunas e posicionamento do particular gráfico descrito logo após o comando `subplot()`."
   ]
  },
  {
   "cell_type": "code",
   "execution_count": null,
   "metadata": {
    "slideshow": {
     "slide_type": "fragment"
    }
   },
   "outputs": [],
   "source": [
    "fig = plt.figure(figsize=(5,12))\n",
    "plt.subplot(311)\n",
    "plot = dados.RENDA.plot.hist(bins=15, title='Gráfico de Colunas', alpha=0.9)\n",
    "plt.ylabel('Frequência Absoluta')\n",
    "plt.xlabel('Renda')\n",
    "\n",
    "plt.subplot(312)\n",
    "plot = dados.RENDA.plot.hist(bins=15, title='Gráfico de Colunas', weights=zeros_like(dados.RENDA)+1./dados.RENDA.size*100, alpha=0.7)\n",
    "plt.ylabel('Frequência Relativa (em %)')\n",
    "plt.xlabel('Renda')\n",
    "\n",
    "plt.subplot(313)\n",
    "plot = dados.RENDA.plot.hist(bins=15, title='Histograma', normed=1, alpha=0.5)\n",
    "plt.ylabel('Densidade')\n",
    "plt.xlabel('Renda')\n",
    "\n",
    "plt.tight_layout()\n",
    "plt.show()"
   ]
  },
  {
   "cell_type": "markdown",
   "metadata": {
    "slideshow": {
     "slide_type": "slide"
    }
   },
   "source": [
    "## Organizando os gráficos em forma de *subplot*"
   ]
  },
  {
   "cell_type": "markdown",
   "metadata": {
    "slideshow": {
     "slide_type": "fragment"
    }
   },
   "source": [
    "Reorganizando os gráficos considerando 1 linha e 3 colunas dentro do comando `subplot()`."
   ]
  },
  {
   "cell_type": "code",
   "execution_count": null,
   "metadata": {
    "scrolled": true,
    "slideshow": {
     "slide_type": "fragment"
    }
   },
   "outputs": [],
   "source": [
    "fig = plt.figure(figsize=(15, 5))\n",
    "plt.subplot(131)\n",
    "plot = dados.RENDA.plot.hist(bins=15, title='Gráfico de Colunas', alpha=0.9)\n",
    "plt.ylabel('Frequência Absoluta')\n",
    "plt.xlabel('Renda')\n",
    "\n",
    "plt.subplot(132)\n",
    "plot = dados.RENDA.plot.hist(bins=15, title='Gráfico de Colunas', weights=zeros_like(dados.RENDA)+1./dados.RENDA.size*100, alpha=0.7)\n",
    "plt.ylabel('Frequência Relativa (em %)')\n",
    "plt.xlabel('Renda')\n",
    "\n",
    "plt.subplot(133)\n",
    "plot = dados.RENDA.plot.hist(bins=15, title='Histograma', normed=1, alpha=0.5)\n",
    "plt.ylabel('Densidade')\n",
    "plt.xlabel('Renda')\n",
    "\n",
    "plt.tight_layout()\n",
    "plt.show()"
   ]
  },
  {
   "cell_type": "code",
   "execution_count": null,
   "metadata": {
    "collapsed": true
   },
   "outputs": [],
   "source": []
  },
  {
   "cell_type": "code",
   "execution_count": null,
   "metadata": {
    "collapsed": true
   },
   "outputs": [],
   "source": []
  },
  {
   "cell_type": "code",
   "execution_count": null,
   "metadata": {
    "collapsed": true
   },
   "outputs": [],
   "source": []
  },
  {
   "cell_type": "code",
   "execution_count": null,
   "metadata": {
    "collapsed": true
   },
   "outputs": [],
   "source": []
  },
  {
   "cell_type": "code",
   "execution_count": null,
   "metadata": {
    "collapsed": true
   },
   "outputs": [],
   "source": []
  },
  {
   "cell_type": "code",
   "execution_count": null,
   "metadata": {
    "collapsed": true
   },
   "outputs": [],
   "source": []
  }
 ],
 "metadata": {
  "celltoolbar": "Slideshow",
  "kernelspec": {
   "display_name": "Python 3",
   "language": "python",
   "name": "python3"
  },
  "language_info": {
   "codemirror_mode": {
    "name": "ipython",
    "version": 3
   },
   "file_extension": ".py",
   "mimetype": "text/x-python",
   "name": "python",
   "nbconvert_exporter": "python",
   "pygments_lexer": "ipython3",
   "version": "3.6.1"
  }
 },
 "nbformat": 4,
 "nbformat_minor": 1
}
