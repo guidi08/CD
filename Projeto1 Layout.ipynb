{
 "cells": [
  {
   "cell_type": "markdown",
   "metadata": {},
   "source": [
    "___\n",
    "# Ciência dos Dados - PROJETO 1"
   ]
  },
  {
   "cell_type": "markdown",
   "metadata": {},
   "source": [
    "## Guilherme Guidi 2A\n",
    "___"
   ]
  },
  {
   "cell_type": "markdown",
   "metadata": {},
   "source": [
    "## O CRESCIMENTO DA UTILIZAÇÃO DOS MEIOS DE COMUNICAÇÃO EM RELAÇÃO AO PERFIL ECONÔMICO DA POPULAÇÃO"
   ]
  },
  {
   "cell_type": "markdown",
   "metadata": {},
   "source": [
    "___\n",
    "## Introdução\n",
    "\n",
    "A partir de dados de 2013, 2014 e 2015, irei analisar a variação da utilização de meios de comunicação digitais em relação ao perfil econômico de cada pessoa. A análise irá abranger a renda do usuário, se este acessa a internet e qual o aparelho que o mesmo utiliza para acessar a internet.\n",
    "\n",
    "Após a análise, obterei o aparelho mais utilizado para cada faixa de renda. Cada faixa será definida a partir do todo, ou seja, após obter a média de renda dos entrevistados, haverão pessoas abaixo de 33,33% da média, entre 33,33% e 66,66% e entre 66,66% e 99,99%.\n",
    "\n",
    "No final da análise descobrirei o crescimento de determinado aparelho dentro de cada faixa e qual o mais utilizado no passar dos anos por todas as faixas.\n"
   ]
  },
  {
   "cell_type": "markdown",
   "metadata": {},
   "source": [
    "___\n",
    "## Análise e Resultados"
   ]
  },
  {
   "cell_type": "code",
   "execution_count": 1,
   "metadata": {
    "collapsed": true
   },
   "outputs": [],
   "source": [
    "import time\n",
    "import pandas as pd\n",
    "import numpy\n",
    "import numpy as np\n",
    "%matplotlib inline\n",
    "import matplotlib.pyplot as plt\n",
    "import matplotlib\n",
    "import os\n",
    "matplotlib.style.use('ggplot')"
   ]
  },
  {
   "cell_type": "code",
   "execution_count": 2,
   "metadata": {},
   "outputs": [
    {
     "name": "stdout",
     "output_type": "stream",
     "text": [
      "Esperamos trabalhar no diretório\n",
      "/Users/Gui Guidi/Desktop/Engenharia Comp/2º Semestre/Ciencia-Dados/Aula Panda Inicial 01/Projeto1\n"
     ]
    }
   ],
   "source": [
    "\n",
    "print('Esperamos trabalhar no diretório')\n",
    "print(os.getcwd())"
   ]
  },
  {
   "cell_type": "code",
   "execution_count": 3,
   "metadata": {
    "collapsed": true
   },
   "outputs": [],
   "source": [
    "#Lendo arquivos\n",
    "dados = pd.read_csv('DOM2015.csv')\n",
    "dados1 = pd.read_csv('DOM2014.csv')\n",
    "dados2 = pd.read_csv('DOM2013.csv')"
   ]
  },
  {
   "cell_type": "code",
   "execution_count": 4,
   "metadata": {
    "collapsed": true
   },
   "outputs": [],
   "source": [
    "## Tentei retirar os dados inválidos, mas o cmd apagava os NÃOs de algumas colunas\n",
    "\n",
    "\n",
    "\n",
    "#retirando dados inválidos\n",
    "#Dados15 = dados[pd.notnull(dados.V0220)&pd.notnull(dados.V0231)&pd.notnull(dados.V02322)&pd.notnull(dados.V02323)&pd.notnull(dados.V02324)&pd.notnull(dados.V02325)]\n"
   ]
  },
  {
   "cell_type": "code",
   "execution_count": 5,
   "metadata": {
    "collapsed": true
   },
   "outputs": [],
   "source": [
    "#Retirando dados inválidos\n",
    "#Dados14 = dados1[pd.notnull(dados1.V0220)&pd.notnull(dados1.V0231)&pd.notnull(dados1.V02322)&pd.notnull(dados1.V02323)&pd.notnull(dados1.V02324)&pd.notnull(dados1.V02325)]"
   ]
  },
  {
   "cell_type": "code",
   "execution_count": 6,
   "metadata": {
    "collapsed": true
   },
   "outputs": [],
   "source": [
    "#Retirando dados inválidos\n",
    "#Dados13 = dados2[pd.notnull(dados2.V0220)&pd.notnull(dados2.V0231)&pd.notnull(dados2.V02322)&pd.notnull(dados2.V02323)&pd.notnull(dados2.V02324)&pd.notnull(dados2.V02325)]"
   ]
  },
  {
   "cell_type": "code",
   "execution_count": 7,
   "metadata": {
    "collapsed": true
   },
   "outputs": [],
   "source": [
    "x = dados[['V0220','V0231','V02322','V02323','V02324','V02325','V4614']] \n",
    "x.to_csv(\"dados_Escolhidos_2015.csv\")"
   ]
  },
  {
   "cell_type": "code",
   "execution_count": 8,
   "metadata": {
    "collapsed": true
   },
   "outputs": [],
   "source": [
    "#Selecionando colunas desejadas \n",
    "y = dados1[['V0220','V0231','V02322','V02323','V02324','V02325','V4614']] \n",
    "y.to_csv(\"dados_Escolhidos_2014.csv\")"
   ]
  },
  {
   "cell_type": "code",
   "execution_count": 9,
   "metadata": {
    "collapsed": true
   },
   "outputs": [],
   "source": [
    "#Selecionando colunas desejadas\n",
    "z = dados2[['V0220','V0231','V02322','V02323','V02324','V02325','V4614']]\n",
    "z.to_csv(\"dados_Escolhidos_2013.csv\")"
   ]
  },
  {
   "cell_type": "code",
   "execution_count": 10,
   "metadata": {},
   "outputs": [
    {
     "name": "stderr",
     "output_type": "stream",
     "text": [
      "/anaconda/lib/python3.6/site-packages/pandas/core/generic.py:2999: SettingWithCopyWarning: \n",
      "A value is trying to be set on a copy of a slice from a DataFrame.\n",
      "Try using .loc[row_indexer,col_indexer] = value instead\n",
      "\n",
      "See the caveats in the documentation: http://pandas.pydata.org/pandas-docs/stable/indexing.html#indexing-view-versus-copy\n",
      "  self[name] = value\n"
     ]
    }
   ],
   "source": [
    "#Transformando dados em Category para pode trabalhar como variável qualitativa\n",
    "x.V0220 = x.V0220.astype('category')\n",
    "x.V0231 = x.V0231.astype('category')\n",
    "x.V02322 = x.V02322.astype('category')\n",
    "x.V02323 = x.V02323.astype('category')\n",
    "x.V02324 = x.V02324.astype('category')\n",
    "x.V02325 = x.V02325.astype('category')\n",
    "\n",
    "y.V0220 = y.V0220.astype('category')\n",
    "y.V0231 = y.V0231.astype('category')\n",
    "y.V02322 = y.V02322.astype('category')\n",
    "y.V02323 = y.V02323.astype('category')\n",
    "y.V02324 = y.V02324.astype('category')\n",
    "y.V02325 = y.V02325.astype('category')\n",
    "\n",
    "z.V0220 = z.V0220.astype('category')\n",
    "z.V0231 = z.V0231.astype('category')\n",
    "z.V02322 = z.V02322.astype('category')\n",
    "z.V02323 = z.V02323.astype('category')\n",
    "z.V02324 = z.V02324.astype('category')\n",
    "z.V02325 = z.V02325.astype('category')\n",
    "\n"
   ]
  },
  {
   "cell_type": "code",
   "execution_count": 11,
   "metadata": {
    "collapsed": true
   },
   "outputs": [],
   "source": [
    "#Renomeando os valores qualitativos para possibilitar a construção de gráficos CrossOver\n",
    "x.V0220.cat.categories = ('Sim', 'Nao')\n",
    "x.V0231.cat.categories = ('Sim', 'Nao')\n",
    "x.V02322.cat.categories = ('Sim', 'Nao')\n",
    "x.V02323.cat.categories = ('Sim', 'Nao')\n",
    "x.V02324.cat.categories = ('Sim', 'Nao')\n",
    "x.V02325.cat.categories = ('Sim', 'Nao')\n",
    "\n",
    "y.V0220.cat.categories = ('Sim', 'Nao')\n",
    "y.V0231.cat.categories = ('Sim', 'Nao')\n",
    "y.V02322.cat.categories = ('Sim', 'Nao')\n",
    "y.V02323.cat.categories = ('Sim', 'Nao')\n",
    "y.V02324.cat.categories = ('Sim', 'Nao')\n",
    "y.V02325.cat.categories = ('Sim', 'Nao')\n",
    "\n",
    "z.V0220.cat.categories = ('Sim', 'Nao')\n",
    "z.V0231.cat.categories = ('Sim', 'Nao')\n",
    "z.V02322.cat.categories = ('Sim','Nao')\n",
    "z.V02323.cat.categories = ('Sim', 'Nao')\n",
    "z.V02324.cat.categories = ('Sim', 'Nao')\n",
    "z.V02325.cat.categories = ('Sim', 'Nao')"
   ]
  },
  {
   "cell_type": "code",
   "execution_count": 12,
   "metadata": {
    "collapsed": true
   },
   "outputs": [],
   "source": [
    "#Retirando dados inválidos da Renda\n",
    "x = x[x['V4614']!=999999999999.0]\n",
    "y = y[y['V4614']!=999999999999.0]\n",
    "z = z[z['V4614']!=999999999999.0]"
   ]
  },
  {
   "cell_type": "code",
   "execution_count": 13,
   "metadata": {},
   "outputs": [
    {
     "data": {
      "text/plain": [
       "Sim    66332\n",
       "Nao    48964\n",
       "Name: V02322, dtype: int64"
      ]
     },
     "execution_count": 13,
     "metadata": {},
     "output_type": "execute_result"
    }
   ],
   "source": [
    "#Quantidade de pessoas que utilizam a internet dentro deste PNAD2015\n",
    "x.V02322.value_counts()"
   ]
  },
  {
   "cell_type": "code",
   "execution_count": 14,
   "metadata": {},
   "outputs": [
    {
     "data": {
      "text/plain": [
       "Sim    62532\n",
       "Nao    52236\n",
       "Name: V02322, dtype: int64"
      ]
     },
     "execution_count": 14,
     "metadata": {},
     "output_type": "execute_result"
    }
   ],
   "source": [
    "#Quantidade de pessoas que utilizam a internet dentro deste PNAD2014\n",
    "y.V02322.value_counts()"
   ]
  },
  {
   "cell_type": "code",
   "execution_count": null,
   "metadata": {},
   "outputs": [
    {
     "data": {
      "text/plain": [
       "Nao    59024\n",
       "Sim    51663\n",
       "Name: V02322, dtype: int64"
      ]
     },
     "execution_count": 15,
     "metadata": {},
     "output_type": "execute_result"
    }
   ],
   "source": [
    "#Quantidade de pessoas que utilizam a internet dentro deste PNAD2013\n",
    "z.V02322.value_counts()"
   ]
  },
  {
   "cell_type": "code",
   "execution_count": null,
   "metadata": {},
   "outputs": [],
   "source": [
    "mediax=numpy.mean(x[x.V02322 == 'Sim'])\n",
    "mediay=numpy.mean(y[y.V02322 == 'Sim'])\n",
    "mediaz=numpy.mean(z[z.V02322 == 'Sim'])\n",
    "#para descobrir a renda media dos 3 anos, irei multiplicar cada média em função do número de pessoas de cada ano.\n",
    "t2015 = 66332\n",
    "t2014 = 62532\n",
    "t2013 = 51663\n",
    "\n",
    "total_p = t2015+t2014+t2013\n",
    "\n",
    "alfa2015 = t2015/total_p\n",
    "alfa2014 = t2014/total_p\n",
    "alfa2013 = t2013/total_p\n",
    "#Aplicando o razão de pessoas de cada ano nas medias\n",
    "Media_Real = alfa2015*mediax + alfa2014*mediay + alfa2013*mediaz\n",
    "Media_Real\n",
    "\n",
    "\n",
    "\n"
   ]
  },
  {
   "cell_type": "code",
   "execution_count": null,
   "metadata": {
    "collapsed": true
   },
   "outputs": [],
   "source": [
    "#Estabelecendo Faixas 2015\n",
    "p33x = x[(x.V4614 < 1417.51)]\n",
    "p33_66x = x[(x.V4614 >=1417.51) & (x.V4614 <2835.02)]\n",
    "p66_99x = x[(x.V4614 >=2835)]"
   ]
  },
  {
   "cell_type": "code",
   "execution_count": null,
   "metadata": {
    "collapsed": true
   },
   "outputs": [],
   "source": [
    "#Estabelecendo Faixas 2014\n",
    "p33y = y[(y.V4614 < 1417.51)]\n",
    "p33_66y = y[(y.V4614 >=1417.51) & (y.V4614 <2835.02)]\n",
    "p66_99y = y[(y.V4614 >=2835)]"
   ]
  },
  {
   "cell_type": "code",
   "execution_count": null,
   "metadata": {
    "collapsed": true
   },
   "outputs": [],
   "source": [
    "#Estabelecendo Faixas 2013\n",
    "p33z = z[(z.V4614 < 1417.51)]\n",
    "p33_66z = z[(z.V4614 >=1417.51) & (z.V4614 <2835.02)]\n",
    "p66_99z = z[(z.V4614 >=2835)]"
   ]
  },
  {
   "cell_type": "code",
   "execution_count": null,
   "metadata": {},
   "outputs": [],
   "source": [
    "#Abaixo irei estabelecer o crescimento dos aparelhos digitais no decorrer dos anos para quem ganha menos\n",
    "#que 33% da média.\n",
    "\n",
    "#Contagem de Pessoas que utilizam o computador no PNAD2013 \n",
    "p33z[(p33z.V02323 == \"Sim\")].count()\n",
    "\n"
   ]
  },
  {
   "cell_type": "code",
   "execution_count": null,
   "metadata": {},
   "outputs": [],
   "source": [
    "#Contagem de Pessoas que utilizam o computador no PNAD2014 (DIMINUIU 17%)\n",
    "p33y[(p33y.V02323 == \"Sim\")].count()\n",
    "\n"
   ]
  },
  {
   "cell_type": "code",
   "execution_count": null,
   "metadata": {},
   "outputs": [],
   "source": [
    "#Contagem de Pessoas que utilizam o computador no PNAD2015 (DIMINUIU 10%)\n",
    "p33x[(p33x.V02323 == \"Sim\")].count()\n",
    "#######No total, houve uma diminuição entre 2013 e 2015 de 25% na utilização de computadores\n"
   ]
  },
  {
   "cell_type": "code",
   "execution_count": null,
   "metadata": {},
   "outputs": [],
   "source": [
    "#Contagem de Pessoas que utilizam o tablet no PNAD2013 \n",
    "p33z[(p33z.V02325 == \"Sim\")].count()\n",
    "\n"
   ]
  },
  {
   "cell_type": "code",
   "execution_count": null,
   "metadata": {},
   "outputs": [],
   "source": [
    "#Contagem de Pessoas que utilizam o tablet no PNAD2014 (Aumentou 65% de 2013)\n",
    "p33y[(p33y.V02325 == \"Sim\")].count()"
   ]
  },
  {
   "cell_type": "code",
   "execution_count": null,
   "metadata": {},
   "outputs": [],
   "source": [
    "#Contagem de Pessoas que utilizam o tablet no PNAD2015 (Aumentou 10% de 2014)\n",
    "p33x[(p33x.V02325 == \"Sim\")].count()\n",
    "#######No total, houve um aumento entre 2013 e 2015 de 82% na utilização de Tablets\n",
    "\n"
   ]
  },
  {
   "cell_type": "code",
   "execution_count": null,
   "metadata": {},
   "outputs": [],
   "source": [
    "#Contagem das Pesosas que utilizam o celular no PNAD2013\n",
    "p33z[(p33z.V02324 == \"Sim\")].count()\n"
   ]
  },
  {
   "cell_type": "code",
   "execution_count": null,
   "metadata": {},
   "outputs": [],
   "source": [
    "#Contagem das Pesosas que utilizam o celular no PNAD2014 (Aumentou 76% de 2013)\n",
    "p33y[(p33y.V02324 == \"Sim\")].count()"
   ]
  },
  {
   "cell_type": "code",
   "execution_count": null,
   "metadata": {},
   "outputs": [],
   "source": [
    "#Contagem das Pesosas que utilizam o celular no PNAD2015 (Aumentou 29% de 2014)\n",
    "p33x[(p33x.V02324 == \"Sim\")].count()\n",
    "#######No total, houve um aumento entre 2013 e 2015 de 129% na utilização de Celulares \n"
   ]
  },
  {
   "cell_type": "code",
   "execution_count": null,
   "metadata": {},
   "outputs": [],
   "source": [
    "#Gráfico de Crescimento da utilização de celular para acessar a internet (Primeira Faixa (<33%))\n",
    "p33_phone_grow = [5323,9420,12195]\n",
    "\n",
    "anos = [2013,2014,2015]\n",
    "\n",
    "plt.plot(anos,p33_phone_grow)\n",
    "plt.show()\n"
   ]
  },
  {
   "cell_type": "code",
   "execution_count": null,
   "metadata": {},
   "outputs": [],
   "source": [
    "#Contagem de pessoas que utilizam o Celular no PNAD2013\n",
    "p33_66z[(p33_66z.V02324 == \"Sim\")].count()"
   ]
  },
  {
   "cell_type": "code",
   "execution_count": null,
   "metadata": {},
   "outputs": [],
   "source": [
    "#Contagem de pessoas que utilizam o Celular no PNAD2014 (Crescimento de 94%)\n",
    "p33_66y[(p33_66y.V02324 == \"Sim\")].count()"
   ]
  },
  {
   "cell_type": "code",
   "execution_count": null,
   "metadata": {},
   "outputs": [],
   "source": [
    "#Contagem de pessoas que utilizam o Celular no PNAD2015 (Crescimento de 21%)\n",
    "p33_66x[(p33_66x.V02324 == \"Sim\")].count()\n",
    "#######No total, houve um aumento entre 2013 e 2015 de 135% na utilização de Celulares \n",
    "\n"
   ]
  },
  {
   "cell_type": "code",
   "execution_count": null,
   "metadata": {},
   "outputs": [],
   "source": [
    "#Gráfico de Crescimento da utilização de celular para acessar a internet (Segunda Faixa(33%_66%) e primeira)\n",
    "p33_66_phone_grow = [8180,15871,19278]\n",
    "p33_phone_grow = [5323,9420,12195]\n",
    "\n",
    "\n",
    "\n",
    "anos = [2013,2014,2015]\n",
    "\n",
    "plt.plot(anos,p33_66_phone_grow)\n",
    "plt.plot(anos,p33_phone_grow)\n",
    "\n",
    "\n",
    "plt.show()\n",
    "\n"
   ]
  },
  {
   "cell_type": "code",
   "execution_count": null,
   "metadata": {},
   "outputs": [],
   "source": [
    "#Contagem de pessoas que utilizam o Celular no PNAD2013\n",
    "p66_99z[(p66_99z.V02324 == \"Sim\")].count()"
   ]
  },
  {
   "cell_type": "code",
   "execution_count": null,
   "metadata": {},
   "outputs": [],
   "source": [
    "#Contagem de pessoas que utilizam o Celular no PNAD2014 (Aumento de 70%)\n",
    "p66_99y[(p66_99y.V02324 == \"Sim\")].count()"
   ]
  },
  {
   "cell_type": "code",
   "execution_count": null,
   "metadata": {},
   "outputs": [],
   "source": [
    "#Contagem de pessoas que utilizam o Celular no PNAD2015 (Aumento de 16%)\n",
    "p66_99x[(p66_99x.V02324 == \"Sim\")].count()\n",
    "#######No total, houve um aumento entre 2013 e 2015 de 97% na utilização de Celulares "
   ]
  },
  {
   "cell_type": "code",
   "execution_count": null,
   "metadata": {},
   "outputs": [],
   "source": [
    "#                                       Neste gráfico, podemos perceber a relação existente entre o crescente uso do \n",
    "#                                       celular como meio de acesso a internet nas três faixas de classe e o crescime-\n",
    "                                #.      nto negativo da utilização de computadores.\n",
    "p33_phone_grow = [5323,9420,12195]\n",
    "p33_66_phone_grow = [8180,15871,19278]\n",
    "p66_99_phone_grow = [15229,25894,30153]\n",
    "pc_grow_33 = [7183,5971,5433]\n",
    "\n",
    "\n",
    "\n",
    "\n",
    "anos = [2013,2014,2015]\n",
    "plt.plot(anos,p33_phone_grow)\n",
    "plt.plot(anos,p33_66_phone_grow)\n",
    "plt.plot(anos,p66_99_phone_grow)\n",
    "plt.plot(anos,pc_grow_33)\n",
    "plt.ylabel('QTs Pessoas Utilizam Celular')\n",
    "\n",
    "plt.show()\n",
    "\n",
    "#Vermelho = Crescimento Smartphone Faixa 1\n",
    "#Azul     = Crescimento Smartphone Faixa 2\n",
    "#Roxo     = Crescimento Smartphone Faixa 3\n",
    "#Cinza    = Crescimento PC Faixa 1\n"
   ]
  },
  {
   "cell_type": "code",
   "execution_count": null,
   "metadata": {},
   "outputs": [],
   "source": [
    "#Utilização de Celular em relação a utilização de Computador\n",
    "ct1 = pd.crosstab(x.V02323,x.V02324)\n",
    "ct1.plot(kind='bar', color=('yellow', 'salmon'),figsize=(15,6))\n",
    "plt.ylabel('Frequência Absoluta')\n",
    "ct1"
   ]
  },
  {
   "cell_type": "code",
   "execution_count": null,
   "metadata": {},
   "outputs": [],
   "source": [
    "#Utilização de Celular em relação a utilização de Tablet\n",
    "\n",
    "ct1 = pd.crosstab(x.V02325,x.V02324)\n",
    "ct1.plot(kind='bar', color=('yellow', 'salmon'),figsize=(15,6))\n",
    "plt.ylabel('Frequência Absoluta')\n"
   ]
  },
  {
   "cell_type": "markdown",
   "metadata": {},
   "source": [
    "___\n",
    "## Conclusão "
   ]
  },
  {
   "cell_type": "markdown",
   "metadata": {
    "collapsed": true
   },
   "source": [
    "A partir da análise dos gráficos e da contagem de dados das colunas, percebe-se que o principal meio de acessar a internet se tornou o Celular. Isso se deve, segundo Capelas (2016) em matéria do Estadão, a facilidade e o tamanho do dispositivo, tornando o acesso a rede possível em qualquer lugar. \n",
    "\n",
    "O computador, que era o meio mais utilizado até poucos anos atrás, sofreu uma forte queda na utilização devido ao crescimento de smartphones de baixo custo. O mercado, por sua vez, impulsionou a produção de celulares com fácil acesso a rede e rapidamente se adaptou às novas tendências mundiais.\n",
    "\n",
    "Os tablets, apesar de obterem um crescimento na utilização nos ultimos anos, ainda perde para o smartphone pelo seu tamanho, pela impossibilidade de realizar ligações telefônicas, pelo seu preço e pela falta de portabilidade. A tela grande ainda é um chamariz para empresários que buscam fazer apresentações sucintas em reuniões ou para crianças que gostam de jogos.\n",
    "\n",
    "Percebe-se, portanto, que independente da faixa de renda, o aparelho com maior utilização e maior crescimento, para a utilização de internet, dentro do mercado brasileiro é o Celular. Este se mostrou em crescimento desde 2013, apresentando um aumento de 361% nas três faixas de renda. O Crescimento foi ainda maior na faixa do meio, o que representaria, dentro dos meus parâmetros, a classe média da sociedade, com ganhos per capita estimados em RS 1400 e RS 2900.\n",
    "\n",
    "\n",
    "\n",
    "\n",
    "\n",
    "\n",
    "\n",
    "\n",
    "\n",
    "\n",
    "\n",
    "\n",
    "\n",
    "\n",
    "\n",
    "http://jornalggn.com.br/blog/uso-de-celular-e-internet-dobra-nas-classes-baixas\n",
    "http://link.estadao.com.br/noticias/cultura-digital,celular-vira-o-principal-meio-de-acesso-a-internet-no-brasil,10000075832"
   ]
  },
  {
   "cell_type": "code",
   "execution_count": null,
   "metadata": {
    "collapsed": true
   },
   "outputs": [],
   "source": []
  }
 ],
 "metadata": {
  "anaconda-cloud": {},
  "kernelspec": {
   "display_name": "Python 3",
   "language": "python",
   "name": "python3"
  },
  "language_info": {
   "codemirror_mode": {
    "name": "ipython",
    "version": 3
   },
   "file_extension": ".py",
   "mimetype": "text/x-python",
   "name": "python",
   "nbconvert_exporter": "python",
   "pygments_lexer": "ipython3",
   "version": "3.6.1"
  }
 },
 "nbformat": 4,
 "nbformat_minor": 1
}
